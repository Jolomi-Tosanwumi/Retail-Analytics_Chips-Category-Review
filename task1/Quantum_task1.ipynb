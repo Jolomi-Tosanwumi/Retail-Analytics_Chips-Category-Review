{
 "cells": [
  {
   "cell_type": "markdown",
   "metadata": {},
   "source": [
    "# \"Quantium Virtual Internship - Retail Strategy and Analytics - Task 1\"\n",
    "# by Jolomi Tosanwumi.\n",
    "\n",
    "## *Coded with Python.*"
   ]
  },
  {
   "cell_type": "markdown",
   "metadata": {},
   "source": [
    "## Importing useful libraries"
   ]
  },
  {
   "cell_type": "code",
   "execution_count": 1,
   "metadata": {},
   "outputs": [],
   "source": [
    "# importing useful libraries\n",
    "import numpy as np\n",
    "import pandas as pd\n",
    "\n",
    "from scipy.stats import ttest_ind_from_stats\n",
    "\n",
    "import matplotlib.pyplot as plt\n",
    "\n",
    "import re\n",
    "\n",
    "from mlxtend import frequent_patterns"
   ]
  },
  {
   "cell_type": "markdown",
   "metadata": {},
   "source": [
    "## Loading in the datasets"
   ]
  },
  {
   "cell_type": "code",
   "execution_count": 2,
   "metadata": {},
   "outputs": [],
   "source": [
    "df1 = pd.read_csv('QVI_purchase_behaviour.csv')\n",
    "df2 = pd.read_excel('QVI_transaction_data.xlsx')"
   ]
  },
  {
   "cell_type": "code",
   "execution_count": 3,
   "metadata": {},
   "outputs": [],
   "source": [
    "# making a copy of the datasets as our working datasets\n",
    "purchase_behaviour = df1.copy()\n",
    "transaction_data = df2.copy()"
   ]
  },
  {
   "cell_type": "markdown",
   "metadata": {},
   "source": [
    "## Data Exploration"
   ]
  },
  {
   "cell_type": "markdown",
   "metadata": {},
   "source": [
    "### viewing the first 5 rows of the datasets"
   ]
  },
  {
   "cell_type": "code",
   "execution_count": 4,
   "metadata": {},
   "outputs": [
    {
     "data": {
      "text/html": [
       "<div>\n",
       "<style scoped>\n",
       "    .dataframe tbody tr th:only-of-type {\n",
       "        vertical-align: middle;\n",
       "    }\n",
       "\n",
       "    .dataframe tbody tr th {\n",
       "        vertical-align: top;\n",
       "    }\n",
       "\n",
       "    .dataframe thead th {\n",
       "        text-align: right;\n",
       "    }\n",
       "</style>\n",
       "<table border=\"1\" class=\"dataframe\">\n",
       "  <thead>\n",
       "    <tr style=\"text-align: right;\">\n",
       "      <th></th>\n",
       "      <th>LYLTY_CARD_NBR</th>\n",
       "      <th>LIFESTAGE</th>\n",
       "      <th>PREMIUM_CUSTOMER</th>\n",
       "    </tr>\n",
       "  </thead>\n",
       "  <tbody>\n",
       "    <tr>\n",
       "      <th>0</th>\n",
       "      <td>1000</td>\n",
       "      <td>YOUNG SINGLES/COUPLES</td>\n",
       "      <td>Premium</td>\n",
       "    </tr>\n",
       "    <tr>\n",
       "      <th>1</th>\n",
       "      <td>1002</td>\n",
       "      <td>YOUNG SINGLES/COUPLES</td>\n",
       "      <td>Mainstream</td>\n",
       "    </tr>\n",
       "    <tr>\n",
       "      <th>2</th>\n",
       "      <td>1003</td>\n",
       "      <td>YOUNG FAMILIES</td>\n",
       "      <td>Budget</td>\n",
       "    </tr>\n",
       "    <tr>\n",
       "      <th>3</th>\n",
       "      <td>1004</td>\n",
       "      <td>OLDER SINGLES/COUPLES</td>\n",
       "      <td>Mainstream</td>\n",
       "    </tr>\n",
       "    <tr>\n",
       "      <th>4</th>\n",
       "      <td>1005</td>\n",
       "      <td>MIDAGE SINGLES/COUPLES</td>\n",
       "      <td>Mainstream</td>\n",
       "    </tr>\n",
       "  </tbody>\n",
       "</table>\n",
       "</div>"
      ],
      "text/plain": [
       "   LYLTY_CARD_NBR               LIFESTAGE PREMIUM_CUSTOMER\n",
       "0            1000   YOUNG SINGLES/COUPLES          Premium\n",
       "1            1002   YOUNG SINGLES/COUPLES       Mainstream\n",
       "2            1003          YOUNG FAMILIES           Budget\n",
       "3            1004   OLDER SINGLES/COUPLES       Mainstream\n",
       "4            1005  MIDAGE SINGLES/COUPLES       Mainstream"
      ]
     },
     "execution_count": 4,
     "metadata": {},
     "output_type": "execute_result"
    }
   ],
   "source": [
    "purchase_behaviour.head()"
   ]
  },
  {
   "cell_type": "code",
   "execution_count": 5,
   "metadata": {},
   "outputs": [
    {
     "data": {
      "text/html": [
       "<div>\n",
       "<style scoped>\n",
       "    .dataframe tbody tr th:only-of-type {\n",
       "        vertical-align: middle;\n",
       "    }\n",
       "\n",
       "    .dataframe tbody tr th {\n",
       "        vertical-align: top;\n",
       "    }\n",
       "\n",
       "    .dataframe thead th {\n",
       "        text-align: right;\n",
       "    }\n",
       "</style>\n",
       "<table border=\"1\" class=\"dataframe\">\n",
       "  <thead>\n",
       "    <tr style=\"text-align: right;\">\n",
       "      <th></th>\n",
       "      <th>DATE</th>\n",
       "      <th>STORE_NBR</th>\n",
       "      <th>LYLTY_CARD_NBR</th>\n",
       "      <th>TXN_ID</th>\n",
       "      <th>PROD_NBR</th>\n",
       "      <th>PROD_NAME</th>\n",
       "      <th>PROD_QTY</th>\n",
       "      <th>TOT_SALES</th>\n",
       "    </tr>\n",
       "  </thead>\n",
       "  <tbody>\n",
       "    <tr>\n",
       "      <th>0</th>\n",
       "      <td>43390</td>\n",
       "      <td>1</td>\n",
       "      <td>1000</td>\n",
       "      <td>1</td>\n",
       "      <td>5</td>\n",
       "      <td>Natural Chip        Compny SeaSalt175g</td>\n",
       "      <td>2</td>\n",
       "      <td>6.0</td>\n",
       "    </tr>\n",
       "    <tr>\n",
       "      <th>1</th>\n",
       "      <td>43599</td>\n",
       "      <td>1</td>\n",
       "      <td>1307</td>\n",
       "      <td>348</td>\n",
       "      <td>66</td>\n",
       "      <td>CCs Nacho Cheese    175g</td>\n",
       "      <td>3</td>\n",
       "      <td>6.3</td>\n",
       "    </tr>\n",
       "    <tr>\n",
       "      <th>2</th>\n",
       "      <td>43605</td>\n",
       "      <td>1</td>\n",
       "      <td>1343</td>\n",
       "      <td>383</td>\n",
       "      <td>61</td>\n",
       "      <td>Smiths Crinkle Cut  Chips Chicken 170g</td>\n",
       "      <td>2</td>\n",
       "      <td>2.9</td>\n",
       "    </tr>\n",
       "    <tr>\n",
       "      <th>3</th>\n",
       "      <td>43329</td>\n",
       "      <td>2</td>\n",
       "      <td>2373</td>\n",
       "      <td>974</td>\n",
       "      <td>69</td>\n",
       "      <td>Smiths Chip Thinly  S/Cream&amp;Onion 175g</td>\n",
       "      <td>5</td>\n",
       "      <td>15.0</td>\n",
       "    </tr>\n",
       "    <tr>\n",
       "      <th>4</th>\n",
       "      <td>43330</td>\n",
       "      <td>2</td>\n",
       "      <td>2426</td>\n",
       "      <td>1038</td>\n",
       "      <td>108</td>\n",
       "      <td>Kettle Tortilla ChpsHny&amp;Jlpno Chili 150g</td>\n",
       "      <td>3</td>\n",
       "      <td>13.8</td>\n",
       "    </tr>\n",
       "  </tbody>\n",
       "</table>\n",
       "</div>"
      ],
      "text/plain": [
       "    DATE  STORE_NBR  LYLTY_CARD_NBR  TXN_ID  PROD_NBR  \\\n",
       "0  43390          1            1000       1         5   \n",
       "1  43599          1            1307     348        66   \n",
       "2  43605          1            1343     383        61   \n",
       "3  43329          2            2373     974        69   \n",
       "4  43330          2            2426    1038       108   \n",
       "\n",
       "                                  PROD_NAME  PROD_QTY  TOT_SALES  \n",
       "0    Natural Chip        Compny SeaSalt175g         2        6.0  \n",
       "1                  CCs Nacho Cheese    175g         3        6.3  \n",
       "2    Smiths Crinkle Cut  Chips Chicken 170g         2        2.9  \n",
       "3    Smiths Chip Thinly  S/Cream&Onion 175g         5       15.0  \n",
       "4  Kettle Tortilla ChpsHny&Jlpno Chili 150g         3       13.8  "
      ]
     },
     "execution_count": 5,
     "metadata": {},
     "output_type": "execute_result"
    }
   ],
   "source": [
    "transaction_data.head()"
   ]
  },
  {
   "cell_type": "code",
   "execution_count": 6,
   "metadata": {},
   "outputs": [
    {
     "name": "stdout",
     "output_type": "stream",
     "text": [
      "shape of purchase_behaviour is (72637, 3)\n",
      "shape of transaction_data is (264836, 8)\n"
     ]
    }
   ],
   "source": [
    "print(f'shape of purchase_behaviour is {purchase_behaviour.shape}')\n",
    "print(f'shape of transaction_data is {transaction_data.shape}')"
   ]
  },
  {
   "cell_type": "markdown",
   "metadata": {},
   "source": [
    "###  quick info on the datasets"
   ]
  },
  {
   "cell_type": "code",
   "execution_count": 7,
   "metadata": {},
   "outputs": [
    {
     "name": "stdout",
     "output_type": "stream",
     "text": [
      "<class 'pandas.core.frame.DataFrame'>\n",
      "RangeIndex: 72637 entries, 0 to 72636\n",
      "Data columns (total 3 columns):\n",
      " #   Column            Non-Null Count  Dtype \n",
      "---  ------            --------------  ----- \n",
      " 0   LYLTY_CARD_NBR    72637 non-null  int64 \n",
      " 1   LIFESTAGE         72637 non-null  object\n",
      " 2   PREMIUM_CUSTOMER  72637 non-null  object\n",
      "dtypes: int64(1), object(2)\n",
      "memory usage: 1.7+ MB\n"
     ]
    }
   ],
   "source": [
    "purchase_behaviour.info() "
   ]
  },
  {
   "cell_type": "code",
   "execution_count": 8,
   "metadata": {},
   "outputs": [
    {
     "name": "stdout",
     "output_type": "stream",
     "text": [
      "<class 'pandas.core.frame.DataFrame'>\n",
      "RangeIndex: 264836 entries, 0 to 264835\n",
      "Data columns (total 8 columns):\n",
      " #   Column          Non-Null Count   Dtype  \n",
      "---  ------          --------------   -----  \n",
      " 0   DATE            264836 non-null  int64  \n",
      " 1   STORE_NBR       264836 non-null  int64  \n",
      " 2   LYLTY_CARD_NBR  264836 non-null  int64  \n",
      " 3   TXN_ID          264836 non-null  int64  \n",
      " 4   PROD_NBR        264836 non-null  int64  \n",
      " 5   PROD_NAME       264836 non-null  object \n",
      " 6   PROD_QTY        264836 non-null  int64  \n",
      " 7   TOT_SALES       264836 non-null  float64\n",
      "dtypes: float64(1), int64(6), object(1)\n",
      "memory usage: 16.2+ MB\n"
     ]
    }
   ],
   "source": [
    "transaction_data.info()"
   ]
  },
  {
   "cell_type": "code",
   "execution_count": 9,
   "metadata": {},
   "outputs": [
    {
     "data": {
      "text/plain": [
       "True"
      ]
     },
     "execution_count": 9,
     "metadata": {},
     "output_type": "execute_result"
    }
   ],
   "source": [
    "purchase_behaviour['LYLTY_CARD_NBR'].unique().shape[0] == purchase_behaviour.shape[0] # checking for duplicates"
   ]
  },
  {
   "cell_type": "code",
   "execution_count": 10,
   "metadata": {},
   "outputs": [
    {
     "data": {
      "text/plain": [
       "array(['YOUNG SINGLES/COUPLES', 'YOUNG FAMILIES', 'OLDER SINGLES/COUPLES',\n",
       "       'MIDAGE SINGLES/COUPLES', 'NEW FAMILIES', 'OLDER FAMILIES',\n",
       "       'RETIREES'], dtype=object)"
      ]
     },
     "execution_count": 10,
     "metadata": {},
     "output_type": "execute_result"
    }
   ],
   "source": [
    "purchase_behaviour['LIFESTAGE'].unique() # checking the unique lifestage"
   ]
  },
  {
   "cell_type": "code",
   "execution_count": 11,
   "metadata": {},
   "outputs": [
    {
     "data": {
      "text/plain": [
       "array(['Premium', 'Mainstream', 'Budget'], dtype=object)"
      ]
     },
     "execution_count": 11,
     "metadata": {},
     "output_type": "execute_result"
    }
   ],
   "source": [
    "purchase_behaviour['PREMIUM_CUSTOMER'].unique() # checking the unique customer segements"
   ]
  },
  {
   "cell_type": "markdown",
   "metadata": {},
   "source": [
    "### Converting Date column to datetime in python"
   ]
  },
  {
   "cell_type": "code",
   "execution_count": 12,
   "metadata": {},
   "outputs": [],
   "source": [
    "transaction_data['DATE'] = transaction_data['DATE'].apply(lambda date: pd.to_datetime(date, unit ='D', \n",
    "                                                                                     origin=pd.Timestamp(\"30-12-1899\")))"
   ]
  },
  {
   "cell_type": "code",
   "execution_count": 13,
   "metadata": {},
   "outputs": [
    {
     "data": {
      "text/html": [
       "<div>\n",
       "<style scoped>\n",
       "    .dataframe tbody tr th:only-of-type {\n",
       "        vertical-align: middle;\n",
       "    }\n",
       "\n",
       "    .dataframe tbody tr th {\n",
       "        vertical-align: top;\n",
       "    }\n",
       "\n",
       "    .dataframe thead th {\n",
       "        text-align: right;\n",
       "    }\n",
       "</style>\n",
       "<table border=\"1\" class=\"dataframe\">\n",
       "  <thead>\n",
       "    <tr style=\"text-align: right;\">\n",
       "      <th></th>\n",
       "      <th>DATE</th>\n",
       "      <th>STORE_NBR</th>\n",
       "      <th>LYLTY_CARD_NBR</th>\n",
       "      <th>TXN_ID</th>\n",
       "      <th>PROD_NBR</th>\n",
       "      <th>PROD_NAME</th>\n",
       "      <th>PROD_QTY</th>\n",
       "      <th>TOT_SALES</th>\n",
       "    </tr>\n",
       "  </thead>\n",
       "  <tbody>\n",
       "    <tr>\n",
       "      <th>0</th>\n",
       "      <td>2018-10-17</td>\n",
       "      <td>1</td>\n",
       "      <td>1000</td>\n",
       "      <td>1</td>\n",
       "      <td>5</td>\n",
       "      <td>Natural Chip        Compny SeaSalt175g</td>\n",
       "      <td>2</td>\n",
       "      <td>6.0</td>\n",
       "    </tr>\n",
       "    <tr>\n",
       "      <th>1</th>\n",
       "      <td>2019-05-14</td>\n",
       "      <td>1</td>\n",
       "      <td>1307</td>\n",
       "      <td>348</td>\n",
       "      <td>66</td>\n",
       "      <td>CCs Nacho Cheese    175g</td>\n",
       "      <td>3</td>\n",
       "      <td>6.3</td>\n",
       "    </tr>\n",
       "    <tr>\n",
       "      <th>2</th>\n",
       "      <td>2019-05-20</td>\n",
       "      <td>1</td>\n",
       "      <td>1343</td>\n",
       "      <td>383</td>\n",
       "      <td>61</td>\n",
       "      <td>Smiths Crinkle Cut  Chips Chicken 170g</td>\n",
       "      <td>2</td>\n",
       "      <td>2.9</td>\n",
       "    </tr>\n",
       "    <tr>\n",
       "      <th>3</th>\n",
       "      <td>2018-08-17</td>\n",
       "      <td>2</td>\n",
       "      <td>2373</td>\n",
       "      <td>974</td>\n",
       "      <td>69</td>\n",
       "      <td>Smiths Chip Thinly  S/Cream&amp;Onion 175g</td>\n",
       "      <td>5</td>\n",
       "      <td>15.0</td>\n",
       "    </tr>\n",
       "    <tr>\n",
       "      <th>4</th>\n",
       "      <td>2018-08-18</td>\n",
       "      <td>2</td>\n",
       "      <td>2426</td>\n",
       "      <td>1038</td>\n",
       "      <td>108</td>\n",
       "      <td>Kettle Tortilla ChpsHny&amp;Jlpno Chili 150g</td>\n",
       "      <td>3</td>\n",
       "      <td>13.8</td>\n",
       "    </tr>\n",
       "  </tbody>\n",
       "</table>\n",
       "</div>"
      ],
      "text/plain": [
       "        DATE  STORE_NBR  LYLTY_CARD_NBR  TXN_ID  PROD_NBR  \\\n",
       "0 2018-10-17          1            1000       1         5   \n",
       "1 2019-05-14          1            1307     348        66   \n",
       "2 2019-05-20          1            1343     383        61   \n",
       "3 2018-08-17          2            2373     974        69   \n",
       "4 2018-08-18          2            2426    1038       108   \n",
       "\n",
       "                                  PROD_NAME  PROD_QTY  TOT_SALES  \n",
       "0    Natural Chip        Compny SeaSalt175g         2        6.0  \n",
       "1                  CCs Nacho Cheese    175g         3        6.3  \n",
       "2    Smiths Crinkle Cut  Chips Chicken 170g         2        2.9  \n",
       "3    Smiths Chip Thinly  S/Cream&Onion 175g         5       15.0  \n",
       "4  Kettle Tortilla ChpsHny&Jlpno Chili 150g         3       13.8  "
      ]
     },
     "execution_count": 13,
     "metadata": {},
     "output_type": "execute_result"
    }
   ],
   "source": [
    "transaction_data.head()"
   ]
  },
  {
   "cell_type": "code",
   "execution_count": 14,
   "metadata": {},
   "outputs": [
    {
     "data": {
      "text/plain": [
       "263127"
      ]
     },
     "execution_count": 14,
     "metadata": {},
     "output_type": "execute_result"
    }
   ],
   "source": [
    "transaction_data['TXN_ID'].unique().shape[0] # checking the number of unique transactions"
   ]
  },
  {
   "cell_type": "code",
   "execution_count": 15,
   "metadata": {},
   "outputs": [
    {
     "data": {
      "text/plain": [
       "(114,)"
      ]
     },
     "execution_count": 15,
     "metadata": {},
     "output_type": "execute_result"
    }
   ],
   "source": [
    "transaction_data['PROD_NBR'].unique().shape # checking the number of unique product number"
   ]
  },
  {
   "cell_type": "code",
   "execution_count": 16,
   "metadata": {},
   "outputs": [
    {
     "name": "stdout",
     "output_type": "stream",
     "text": [
      "114\n",
      "{'Doritos Mexicana    170g', 'Natural Chip Co     Tmato Hrb&Spce 175g', 'Natural ChipCo Sea  Salt & Vinegr 175g', 'Old El Paso Salsa   Dip Chnky Tom Ht300g', 'Twisties Cheese     270g', 'WW D/Style Chip     Sea Salt 200g', 'French Fries Potato Chips 175g', 'Kettle Tortilla ChpsBtroot&Ricotta 150g', 'Smiths Thinly       Swt Chli&S/Cream175G', 'Cheetos Puffs 165g', 'Tyrrells Crisps     Lightly Salted 165g', 'NCC Sour Cream &    Garden Chives 175g', 'Smiths Crinkle      Original 330g', 'Old El Paso Salsa   Dip Tomato Med 300g', 'Doritos Corn Chips  Original 170g', 'Cheezels Cheese 330g', 'Kettle Sweet Chilli And Sour Cream 175g', 'Doritos Salsa       Medium 300g', 'Natural ChipCo      Hony Soy Chckn175g', 'Pringles SourCream  Onion 134g', 'Kettle Sensations   BBQ&Maple 150g', 'Infuzions Mango     Chutny Papadums 70g', 'Cheezels Cheese Box 125g', 'Cobs Popd Swt/Chlli &Sr/Cream Chips 110g', 'Thins Chips Seasonedchicken 175g', 'Smiths Chip Thinly  CutSalt/Vinegr175g', 'Old El Paso Salsa   Dip Tomato Mild 300g', 'GrnWves Plus Btroot & Chilli Jam 180g', 'Smith Crinkle Cut   Bolognese 150g', 'Thins Chips Light&  Tangy 175g', 'Kettle Tortilla ChpsFeta&Garlic 150g', 'Smiths Crinkle Cut  Chips Chicken 170g', 'WW Original Corn    Chips 200g', 'Pringles Sweet&Spcy BBQ 134g', 'RRD Sweet Chilli &  Sour Cream 165g', 'Grain Waves Sour    Cream&Chives 210G', 'Thins Potato Chips  Hot & Spicy 175g', 'Doritos Corn Chip Mexican Jalapeno 150g', 'CCs Nacho Cheese    175g', 'Infzns Crn Crnchers Tangy Gcamole 110g', 'Kettle Mozzarella   Basil & Pesto 175g', 'Smiths Chip Thinly  S/Cream&Onion 175g', 'Twisties Cheese     Burger 250g', 'Tyrrells Crisps     Ched & Chives 165g', 'Grain Waves         Sweet Chilli 210g', 'Red Rock Deli SR    Salsa & Mzzrlla 150g', 'CCs Tasty Cheese    175g', 'WW Sour Cream &OnionStacked Chips 160g', 'Smiths Crinkle Chips Salt & Vinegar 330g', 'Cobs Popd Sea Salt  Chips 110g', 'WW Supreme Cheese   Corn Chips 200g', 'Infuzions BBQ Rib   Prawn Crackers 110g', 'Doritos Salsa Mild  300g', 'Smiths Crinkle Cut  Chips Original 170g', 'Tostitos Smoked     Chipotle 175g', 'Twisties Chicken270g', 'Cheetos Chs & Bacon Balls 190g', 'WW Crinkle Cut      Chicken 175g', 'RRD SR Slow Rst     Pork Belly 150g', 'Cobs Popd Sour Crm  &Chives Chips 110g', 'Smiths Crinkle Cut  Chips Barbecue 170g', 'Kettle Honey Soy    Chicken 175g', 'Kettle Sensations   Siracha Lime 150g', 'Woolworths Mild     Salsa 300g', 'Red Rock Deli Thai  Chilli&Lime 150g', 'Kettle Chilli 175g', 'Snbts Whlgrn Crisps Cheddr&Mstrd 90g', 'Smiths Crinkle Cut  French OnionDip 150g', 'RRD Steak &         Chimuchurri 150g', 'Doritos Corn Chips  Nacho Cheese 170g', 'Smiths Thinly Cut   Roast Chicken 175g', 'Kettle Sensations   Camembert & Fig 150g', 'Smiths Crinkle Cut  Salt & Vinegar 170g', 'RRD Chilli&         Coconut 150g', 'Natural Chip        Compny SeaSalt175g', 'Pringles Sthrn FriedChicken 134g', 'Woolworths Cheese   Rings 190g', 'Kettle Sea Salt     And Vinegar 175g', 'Smith Crinkle Cut   Mac N Cheese 150g', 'Smiths Crinkle Cut  Snag&Sauce 150g', 'Doritos Cheese      Supreme 330g', 'Pringles Slt Vingar 134g', 'Dorito Corn Chp     Supreme 380g', 'Pringles Chicken    Salt Crips 134g', 'Smiths Crnkle Chip  Orgnl Big Bag 380g', 'Doritos Corn Chip Southern Chicken 150g', 'Kettle 135g Swt Pot Sea Salt', 'Pringles Mystery    Flavour 134g', 'Doritos Corn Chips  Cheese Supreme 170g', 'Sunbites Whlegrn    Crisps Frch/Onin 90g', 'Thins Chips Salt &  Vinegar 175g', 'CCs Original 175g', 'Thins Chips         Originl saltd 175g', 'Smiths Chip Thinly  Cut Original 175g', 'RRD Pc Sea Salt     165g', 'RRD Honey Soy       Chicken 165g', 'Infuzions SourCream&Herbs Veg Strws 110g', 'Woolworths Medium   Salsa 300g', 'RRD Lime & Pepper   165g', 'WW Original Stacked Chips 160g', 'Smiths Crinkle Cut  Chips Chs&Onion170g', 'Tostitos Lightly    Salted 175g', 'Pringles Barbeque   134g', 'Infuzions Thai SweetChili PotatoMix 110g', 'Burger Rings 220g', 'WW Crinkle Cut      Original 175g', 'Kettle Tortilla ChpsHny&Jlpno Chili 150g', 'RRD Salt & Vinegar  165g', 'Tostitos Splash Of  Lime 175g', 'Red Rock Deli Chikn&Garlic Aioli 150g', 'Kettle Original 175g', 'Red Rock Deli Sp    Salt & Truffle 150G', 'Smiths Crinkle Cut  Tomato Salsa 150g', 'Pringles Original   Crisps 134g'}\n"
     ]
    }
   ],
   "source": [
    "# viewing the unique product names\n",
    "unique_prod = set(transaction_data['PROD_NAME'])\n",
    "print(len(unique_prod))\n",
    "print(unique_prod)"
   ]
  },
  {
   "cell_type": "code",
   "execution_count": 17,
   "metadata": {},
   "outputs": [
    {
     "data": {
      "image/png": "[encoded data removed]",
      "text/plain": [
       "<Figure size 1440x288 with 1 Axes>"
      ]
     },
     "metadata": {
      "needs_background": "light"
     },
     "output_type": "display_data"
    }
   ],
   "source": [
    "plt.figure(figsize=(20, 4))\n",
    "transaction_data['PROD_NAME'].value_counts().plot.bar()\n",
    "plt.title(\"counts of product names\")\n",
    "plt.xlabel(\"count\")\n",
    "plt.ylabel(\"product names\")\n",
    "plt.show()"
   ]
  },
  {
   "cell_type": "markdown",
   "metadata": {},
   "source": [
    "### As we are only interested in words that will tell us if the product is chips or not, let's remove all salsa products and flag if a product is chip or not with ````is_chip```` column."
   ]
  },
  {
   "cell_type": "code",
   "execution_count": 18,
   "metadata": {},
   "outputs": [
    {
     "name": "stdout",
     "output_type": "stream",
     "text": [
      "unique chip product names are 105 in number\n"
     ]
    },
    {
     "data": {
      "text/plain": [
       "{'Doritos Salsa       Medium 300g',\n",
       " 'Doritos Salsa Mild  300g',\n",
       " 'Old El Paso Salsa   Dip Chnky Tom Ht300g',\n",
       " 'Old El Paso Salsa   Dip Tomato Med 300g',\n",
       " 'Old El Paso Salsa   Dip Tomato Mild 300g',\n",
       " 'Red Rock Deli SR    Salsa & Mzzrlla 150g',\n",
       " 'Smiths Crinkle Cut  Tomato Salsa 150g',\n",
       " 'Woolworths Medium   Salsa 300g',\n",
       " 'Woolworths Mild     Salsa 300g'}"
      ]
     },
     "execution_count": 18,
     "metadata": {},
     "output_type": "execute_result"
    }
   ],
   "source": [
    "transaction_data['is_chip'] = (~transaction_data['PROD_NAME'].str.contains('salsa', case=False)).astype(np.int64)\n",
    "unique_chips = set(transaction_data['PROD_NAME'][transaction_data['is_chip'] == 1])\n",
    "print(f\"unique chip product names are {len(unique_chips)} in number\")\n",
    "unique_prod - unique_chips # confirming that the remainder are salsa products"
   ]
  },
  {
   "cell_type": "code",
   "execution_count": 19,
   "metadata": {},
   "outputs": [
    {
     "data": {
      "text/html": [
       "<div>\n",
       "<style scoped>\n",
       "    .dataframe tbody tr th:only-of-type {\n",
       "        vertical-align: middle;\n",
       "    }\n",
       "\n",
       "    .dataframe tbody tr th {\n",
       "        vertical-align: top;\n",
       "    }\n",
       "\n",
       "    .dataframe thead th {\n",
       "        text-align: right;\n",
       "    }\n",
       "</style>\n",
       "<table border=\"1\" class=\"dataframe\">\n",
       "  <thead>\n",
       "    <tr style=\"text-align: right;\">\n",
       "      <th></th>\n",
       "      <th>DATE</th>\n",
       "      <th>STORE_NBR</th>\n",
       "      <th>LYLTY_CARD_NBR</th>\n",
       "      <th>TXN_ID</th>\n",
       "      <th>PROD_NBR</th>\n",
       "      <th>PROD_NAME</th>\n",
       "      <th>PROD_QTY</th>\n",
       "      <th>TOT_SALES</th>\n",
       "      <th>is_chip</th>\n",
       "    </tr>\n",
       "  </thead>\n",
       "  <tbody>\n",
       "    <tr>\n",
       "      <th>0</th>\n",
       "      <td>2018-10-17</td>\n",
       "      <td>1</td>\n",
       "      <td>1000</td>\n",
       "      <td>1</td>\n",
       "      <td>5</td>\n",
       "      <td>Natural Chip        Compny SeaSalt175g</td>\n",
       "      <td>2</td>\n",
       "      <td>6.0</td>\n",
       "      <td>1</td>\n",
       "    </tr>\n",
       "    <tr>\n",
       "      <th>1</th>\n",
       "      <td>2019-05-14</td>\n",
       "      <td>1</td>\n",
       "      <td>1307</td>\n",
       "      <td>348</td>\n",
       "      <td>66</td>\n",
       "      <td>CCs Nacho Cheese    175g</td>\n",
       "      <td>3</td>\n",
       "      <td>6.3</td>\n",
       "      <td>1</td>\n",
       "    </tr>\n",
       "    <tr>\n",
       "      <th>2</th>\n",
       "      <td>2019-05-20</td>\n",
       "      <td>1</td>\n",
       "      <td>1343</td>\n",
       "      <td>383</td>\n",
       "      <td>61</td>\n",
       "      <td>Smiths Crinkle Cut  Chips Chicken 170g</td>\n",
       "      <td>2</td>\n",
       "      <td>2.9</td>\n",
       "      <td>1</td>\n",
       "    </tr>\n",
       "    <tr>\n",
       "      <th>3</th>\n",
       "      <td>2018-08-17</td>\n",
       "      <td>2</td>\n",
       "      <td>2373</td>\n",
       "      <td>974</td>\n",
       "      <td>69</td>\n",
       "      <td>Smiths Chip Thinly  S/Cream&amp;Onion 175g</td>\n",
       "      <td>5</td>\n",
       "      <td>15.0</td>\n",
       "      <td>1</td>\n",
       "    </tr>\n",
       "    <tr>\n",
       "      <th>4</th>\n",
       "      <td>2018-08-18</td>\n",
       "      <td>2</td>\n",
       "      <td>2426</td>\n",
       "      <td>1038</td>\n",
       "      <td>108</td>\n",
       "      <td>Kettle Tortilla ChpsHny&amp;Jlpno Chili 150g</td>\n",
       "      <td>3</td>\n",
       "      <td>13.8</td>\n",
       "      <td>1</td>\n",
       "    </tr>\n",
       "  </tbody>\n",
       "</table>\n",
       "</div>"
      ],
      "text/plain": [
       "        DATE  STORE_NBR  LYLTY_CARD_NBR  TXN_ID  PROD_NBR  \\\n",
       "0 2018-10-17          1            1000       1         5   \n",
       "1 2019-05-14          1            1307     348        66   \n",
       "2 2019-05-20          1            1343     383        61   \n",
       "3 2018-08-17          2            2373     974        69   \n",
       "4 2018-08-18          2            2426    1038       108   \n",
       "\n",
       "                                  PROD_NAME  PROD_QTY  TOT_SALES  is_chip  \n",
       "0    Natural Chip        Compny SeaSalt175g         2        6.0        1  \n",
       "1                  CCs Nacho Cheese    175g         3        6.3        1  \n",
       "2    Smiths Crinkle Cut  Chips Chicken 170g         2        2.9        1  \n",
       "3    Smiths Chip Thinly  S/Cream&Onion 175g         5       15.0        1  \n",
       "4  Kettle Tortilla ChpsHny&Jlpno Chili 150g         3       13.8        1  "
      ]
     },
     "execution_count": 19,
     "metadata": {},
     "output_type": "execute_result"
    }
   ],
   "source": [
    "transaction_data.head()"
   ]
  },
  {
   "cell_type": "markdown",
   "metadata": {},
   "source": [
    "### filtering out the chip transactions as a dataframe. "
   ]
  },
  {
   "cell_type": "code",
   "execution_count": 20,
   "metadata": {},
   "outputs": [],
   "source": [
    "chips_df = transaction_data[transaction_data['is_chip'] == 1]"
   ]
  },
  {
   "cell_type": "code",
   "execution_count": 21,
   "metadata": {},
   "outputs": [
    {
     "data": {
      "text/html": [
       "<div>\n",
       "<style scoped>\n",
       "    .dataframe tbody tr th:only-of-type {\n",
       "        vertical-align: middle;\n",
       "    }\n",
       "\n",
       "    .dataframe tbody tr th {\n",
       "        vertical-align: top;\n",
       "    }\n",
       "\n",
       "    .dataframe thead th {\n",
       "        text-align: right;\n",
       "    }\n",
       "</style>\n",
       "<table border=\"1\" class=\"dataframe\">\n",
       "  <thead>\n",
       "    <tr style=\"text-align: right;\">\n",
       "      <th></th>\n",
       "      <th>STORE_NBR</th>\n",
       "      <th>LYLTY_CARD_NBR</th>\n",
       "      <th>TXN_ID</th>\n",
       "      <th>PROD_NBR</th>\n",
       "      <th>PROD_QTY</th>\n",
       "      <th>TOT_SALES</th>\n",
       "      <th>is_chip</th>\n",
       "    </tr>\n",
       "  </thead>\n",
       "  <tbody>\n",
       "    <tr>\n",
       "      <th>count</th>\n",
       "      <td>246742.000000</td>\n",
       "      <td>2.467420e+05</td>\n",
       "      <td>2.467420e+05</td>\n",
       "      <td>246742.000000</td>\n",
       "      <td>246742.000000</td>\n",
       "      <td>246742.000000</td>\n",
       "      <td>246742.0</td>\n",
       "    </tr>\n",
       "    <tr>\n",
       "      <th>mean</th>\n",
       "      <td>135.051098</td>\n",
       "      <td>1.355310e+05</td>\n",
       "      <td>1.351311e+05</td>\n",
       "      <td>56.351789</td>\n",
       "      <td>1.908062</td>\n",
       "      <td>7.321322</td>\n",
       "      <td>1.0</td>\n",
       "    </tr>\n",
       "    <tr>\n",
       "      <th>std</th>\n",
       "      <td>76.787096</td>\n",
       "      <td>8.071528e+04</td>\n",
       "      <td>7.814772e+04</td>\n",
       "      <td>33.695428</td>\n",
       "      <td>0.659831</td>\n",
       "      <td>3.077828</td>\n",
       "      <td>0.0</td>\n",
       "    </tr>\n",
       "    <tr>\n",
       "      <th>min</th>\n",
       "      <td>1.000000</td>\n",
       "      <td>1.000000e+03</td>\n",
       "      <td>1.000000e+00</td>\n",
       "      <td>1.000000</td>\n",
       "      <td>1.000000</td>\n",
       "      <td>1.700000</td>\n",
       "      <td>1.0</td>\n",
       "    </tr>\n",
       "    <tr>\n",
       "      <th>25%</th>\n",
       "      <td>70.000000</td>\n",
       "      <td>7.001500e+04</td>\n",
       "      <td>6.756925e+04</td>\n",
       "      <td>26.000000</td>\n",
       "      <td>2.000000</td>\n",
       "      <td>5.800000</td>\n",
       "      <td>1.0</td>\n",
       "    </tr>\n",
       "    <tr>\n",
       "      <th>50%</th>\n",
       "      <td>130.000000</td>\n",
       "      <td>1.303670e+05</td>\n",
       "      <td>1.351830e+05</td>\n",
       "      <td>53.000000</td>\n",
       "      <td>2.000000</td>\n",
       "      <td>7.400000</td>\n",
       "      <td>1.0</td>\n",
       "    </tr>\n",
       "    <tr>\n",
       "      <th>75%</th>\n",
       "      <td>203.000000</td>\n",
       "      <td>2.030840e+05</td>\n",
       "      <td>2.026538e+05</td>\n",
       "      <td>87.000000</td>\n",
       "      <td>2.000000</td>\n",
       "      <td>8.800000</td>\n",
       "      <td>1.0</td>\n",
       "    </tr>\n",
       "    <tr>\n",
       "      <th>max</th>\n",
       "      <td>272.000000</td>\n",
       "      <td>2.373711e+06</td>\n",
       "      <td>2.415841e+06</td>\n",
       "      <td>114.000000</td>\n",
       "      <td>200.000000</td>\n",
       "      <td>650.000000</td>\n",
       "      <td>1.0</td>\n",
       "    </tr>\n",
       "  </tbody>\n",
       "</table>\n",
       "</div>"
      ],
      "text/plain": [
       "           STORE_NBR  LYLTY_CARD_NBR        TXN_ID       PROD_NBR  \\\n",
       "count  246742.000000    2.467420e+05  2.467420e+05  246742.000000   \n",
       "mean      135.051098    1.355310e+05  1.351311e+05      56.351789   \n",
       "std        76.787096    8.071528e+04  7.814772e+04      33.695428   \n",
       "min         1.000000    1.000000e+03  1.000000e+00       1.000000   \n",
       "25%        70.000000    7.001500e+04  6.756925e+04      26.000000   \n",
       "50%       130.000000    1.303670e+05  1.351830e+05      53.000000   \n",
       "75%       203.000000    2.030840e+05  2.026538e+05      87.000000   \n",
       "max       272.000000    2.373711e+06  2.415841e+06     114.000000   \n",
       "\n",
       "            PROD_QTY      TOT_SALES   is_chip  \n",
       "count  246742.000000  246742.000000  246742.0  \n",
       "mean        1.908062       7.321322       1.0  \n",
       "std         0.659831       3.077828       0.0  \n",
       "min         1.000000       1.700000       1.0  \n",
       "25%         2.000000       5.800000       1.0  \n",
       "50%         2.000000       7.400000       1.0  \n",
       "75%         2.000000       8.800000       1.0  \n",
       "max       200.000000     650.000000       1.0  "
      ]
     },
     "execution_count": 21,
     "metadata": {},
     "output_type": "execute_result"
    }
   ],
   "source": [
    "chips_df.describe()"
   ]
  },
  {
   "cell_type": "markdown",
   "metadata": {},
   "source": [
    "### There are no nulls in the columns but product quantity appears to have an outlier which we should investigate further. Let's investigate further the case where 200 packets of chips are bought in one transaction."
   ]
  },
  {
   "cell_type": "code",
   "execution_count": 22,
   "metadata": {},
   "outputs": [
    {
     "data": {
      "text/html": [
       "<div>\n",
       "<style scoped>\n",
       "    .dataframe tbody tr th:only-of-type {\n",
       "        vertical-align: middle;\n",
       "    }\n",
       "\n",
       "    .dataframe tbody tr th {\n",
       "        vertical-align: top;\n",
       "    }\n",
       "\n",
       "    .dataframe thead th {\n",
       "        text-align: right;\n",
       "    }\n",
       "</style>\n",
       "<table border=\"1\" class=\"dataframe\">\n",
       "  <thead>\n",
       "    <tr style=\"text-align: right;\">\n",
       "      <th></th>\n",
       "      <th>DATE</th>\n",
       "      <th>STORE_NBR</th>\n",
       "      <th>LYLTY_CARD_NBR</th>\n",
       "      <th>TXN_ID</th>\n",
       "      <th>PROD_NBR</th>\n",
       "      <th>PROD_NAME</th>\n",
       "      <th>PROD_QTY</th>\n",
       "      <th>TOT_SALES</th>\n",
       "      <th>is_chip</th>\n",
       "    </tr>\n",
       "  </thead>\n",
       "  <tbody>\n",
       "    <tr>\n",
       "      <th>69762</th>\n",
       "      <td>2018-08-19</td>\n",
       "      <td>226</td>\n",
       "      <td>226000</td>\n",
       "      <td>226201</td>\n",
       "      <td>4</td>\n",
       "      <td>Dorito Corn Chp     Supreme 380g</td>\n",
       "      <td>200</td>\n",
       "      <td>650.0</td>\n",
       "      <td>1</td>\n",
       "    </tr>\n",
       "    <tr>\n",
       "      <th>69763</th>\n",
       "      <td>2019-05-20</td>\n",
       "      <td>226</td>\n",
       "      <td>226000</td>\n",
       "      <td>226210</td>\n",
       "      <td>4</td>\n",
       "      <td>Dorito Corn Chp     Supreme 380g</td>\n",
       "      <td>200</td>\n",
       "      <td>650.0</td>\n",
       "      <td>1</td>\n",
       "    </tr>\n",
       "  </tbody>\n",
       "</table>\n",
       "</div>"
      ],
      "text/plain": [
       "            DATE  STORE_NBR  LYLTY_CARD_NBR  TXN_ID  PROD_NBR  \\\n",
       "69762 2018-08-19        226          226000  226201         4   \n",
       "69763 2019-05-20        226          226000  226210         4   \n",
       "\n",
       "                              PROD_NAME  PROD_QTY  TOT_SALES  is_chip  \n",
       "69762  Dorito Corn Chp     Supreme 380g       200      650.0        1  \n",
       "69763  Dorito Corn Chp     Supreme 380g       200      650.0        1  "
      ]
     },
     "execution_count": 22,
     "metadata": {},
     "output_type": "execute_result"
    }
   ],
   "source": [
    "chips_df[chips_df['PROD_QTY'] == 200]"
   ]
  },
  {
   "cell_type": "markdown",
   "metadata": {},
   "source": [
    "### There are two transactions where 200 packets of chips are bought in one transaction and both of these transactions were by the same customer. Let's see if the customer has had other transactions."
   ]
  },
  {
   "cell_type": "code",
   "execution_count": 23,
   "metadata": {},
   "outputs": [
    {
     "data": {
      "text/html": [
       "<div>\n",
       "<style scoped>\n",
       "    .dataframe tbody tr th:only-of-type {\n",
       "        vertical-align: middle;\n",
       "    }\n",
       "\n",
       "    .dataframe tbody tr th {\n",
       "        vertical-align: top;\n",
       "    }\n",
       "\n",
       "    .dataframe thead th {\n",
       "        text-align: right;\n",
       "    }\n",
       "</style>\n",
       "<table border=\"1\" class=\"dataframe\">\n",
       "  <thead>\n",
       "    <tr style=\"text-align: right;\">\n",
       "      <th></th>\n",
       "      <th>DATE</th>\n",
       "      <th>STORE_NBR</th>\n",
       "      <th>LYLTY_CARD_NBR</th>\n",
       "      <th>TXN_ID</th>\n",
       "      <th>PROD_NBR</th>\n",
       "      <th>PROD_NAME</th>\n",
       "      <th>PROD_QTY</th>\n",
       "      <th>TOT_SALES</th>\n",
       "      <th>is_chip</th>\n",
       "    </tr>\n",
       "  </thead>\n",
       "  <tbody>\n",
       "    <tr>\n",
       "      <th>69762</th>\n",
       "      <td>2018-08-19</td>\n",
       "      <td>226</td>\n",
       "      <td>226000</td>\n",
       "      <td>226201</td>\n",
       "      <td>4</td>\n",
       "      <td>Dorito Corn Chp     Supreme 380g</td>\n",
       "      <td>200</td>\n",
       "      <td>650.0</td>\n",
       "      <td>1</td>\n",
       "    </tr>\n",
       "    <tr>\n",
       "      <th>69763</th>\n",
       "      <td>2019-05-20</td>\n",
       "      <td>226</td>\n",
       "      <td>226000</td>\n",
       "      <td>226210</td>\n",
       "      <td>4</td>\n",
       "      <td>Dorito Corn Chp     Supreme 380g</td>\n",
       "      <td>200</td>\n",
       "      <td>650.0</td>\n",
       "      <td>1</td>\n",
       "    </tr>\n",
       "  </tbody>\n",
       "</table>\n",
       "</div>"
      ],
      "text/plain": [
       "            DATE  STORE_NBR  LYLTY_CARD_NBR  TXN_ID  PROD_NBR  \\\n",
       "69762 2018-08-19        226          226000  226201         4   \n",
       "69763 2019-05-20        226          226000  226210         4   \n",
       "\n",
       "                              PROD_NAME  PROD_QTY  TOT_SALES  is_chip  \n",
       "69762  Dorito Corn Chp     Supreme 380g       200      650.0        1  \n",
       "69763  Dorito Corn Chp     Supreme 380g       200      650.0        1  "
      ]
     },
     "execution_count": 23,
     "metadata": {},
     "output_type": "execute_result"
    }
   ],
   "source": [
    "transaction_data[transaction_data['LYLTY_CARD_NBR'] == 226000]"
   ]
  },
  {
   "cell_type": "markdown",
   "metadata": {},
   "source": [
    "### It looks like this customer has only had the two transactions over the year and is not an ordinary retail customer. The customer might be buying chips for commercial purposes instead. We'll remove this loyalty card number from further analysis."
   ]
  },
  {
   "cell_type": "code",
   "execution_count": 24,
   "metadata": {},
   "outputs": [],
   "source": [
    "chips_df = chips_df[chips_df['LYLTY_CARD_NBR'] != 226000] # filtering out the outlier"
   ]
  },
  {
   "cell_type": "code",
   "execution_count": 25,
   "metadata": {},
   "outputs": [
    {
     "name": "stdout",
     "output_type": "stream",
     "text": [
      "2018-07-01 00:00:00\n",
      "2019-06-30 00:00:00\n",
      "\n",
      "2018-07-01 00:00:00\n",
      "2019-06-30 00:00:00\n"
     ]
    }
   ],
   "source": [
    "# checking if there is a change in elasped day after removing the outlier\n",
    "print(chips_df['DATE'].min())\n",
    "print(chips_df['DATE'].max())\n",
    "print()\n",
    "print(transaction_data['DATE'].min())\n",
    "print(transaction_data['DATE'].max())"
   ]
  },
  {
   "cell_type": "code",
   "execution_count": 26,
   "metadata": {},
   "outputs": [
    {
     "name": "stdout",
     "output_type": "stream",
     "text": [
      "364\n",
      "364\n"
     ]
    }
   ],
   "source": [
    "# checking the duration of both the transaction and chips datasets.\n",
    "print(chips_df['DATE'].unique().shape[0])\n",
    "print(transaction_data['DATE'].unique().shape[0])"
   ]
  },
  {
   "cell_type": "markdown",
   "metadata": {},
   "source": [
    "### There's only 364 rows, meaning only 364 dates which indicates a missing date. Let's create a sequence of dates from 1 Jul 2018 to 30 Jun 2019 and use this to create a chart of number of transactions over time to find the missing date."
   ]
  },
  {
   "cell_type": "code",
   "execution_count": 27,
   "metadata": {},
   "outputs": [
    {
     "name": "stdout",
     "output_type": "stream",
     "text": [
      "{Timestamp('2018-12-25 00:00:00', freq='D')}\n",
      "{Timestamp('2018-12-25 00:00:00', freq='D')}\n"
     ]
    }
   ],
   "source": [
    "date_jump = set(pd.date_range(chips_df['DATE'].min(), chips_df['DATE'].max())) - set(chips_df['DATE'])\n",
    "print(date_jump)\n",
    "print(set(pd.date_range(chips_df['DATE'].min(), chips_df['DATE'].max())) - set(transaction_data['DATE']))"
   ]
  },
  {
   "cell_type": "markdown",
   "metadata": {},
   "source": [
    "### we see that the missing date is Christmas day. Let's see the number of transactions per day."
   ]
  },
  {
   "cell_type": "code",
   "execution_count": 28,
   "metadata": {},
   "outputs": [
    {
     "data": {
      "text/plain": [
       "2018-07-01    663\n",
       "2018-07-02    650\n",
       "2018-07-03    674\n",
       "2018-07-04    669\n",
       "2018-07-05    660\n",
       "Name: DATE, dtype: int64"
      ]
     },
     "execution_count": 28,
     "metadata": {},
     "output_type": "execute_result"
    }
   ],
   "source": [
    "daily_chips = chips_df['DATE'].value_counts()\n",
    "daily_chips[list(date_jump)[0]] = 0\n",
    "daily_chips = daily_chips.sort_index()\n",
    "daily_chips.head()"
   ]
  },
  {
   "cell_type": "code",
   "execution_count": 29,
   "metadata": {},
   "outputs": [
    {
     "data": {
      "image/png": "[encoded data removed]",
      "text/plain": [
       "<Figure size 1296x288 with 1 Axes>"
      ]
     },
     "metadata": {
      "needs_background": "light"
     },
     "output_type": "display_data"
    }
   ],
   "source": [
    "plt.figure(figsize=(18, 4))\n",
    "plt.plot(daily_chips)\n",
    "plt.plot(daily_chips.rolling(7).mean())\n",
    "plt.xticks(pd.date_range(chips_df['DATE'].min(), chips_df['DATE'].max(), 12))\n",
    "plt.title(\"Time Series of Daily Transactions\")\n",
    "plt.xlabel(\"Days\")\n",
    "plt.ylabel(\"Number of Transactions\")\n",
    "plt.legend([\"daily transactions\", \"moving weekly average\"])\n",
    "plt.show()"
   ]
  },
  {
   "cell_type": "markdown",
   "metadata": {},
   "source": [
    "### We can see that there is an increase in purchases in December and a break in late December. Let's zoom in on this."
   ]
  },
  {
   "cell_type": "code",
   "execution_count": 30,
   "metadata": {},
   "outputs": [
    {
     "data": {
      "image/png": "[encoded data removed]",
      "text/plain": [
       "<Figure size 1296x288 with 1 Axes>"
      ]
     },
     "metadata": {
      "needs_background": "light"
     },
     "output_type": "display_data"
    }
   ],
   "source": [
    "plt.figure(figsize=(18, 4))\n",
    "december_chips = daily_chips[daily_chips.index.month == 12]\n",
    "plt.plot(december_chips, marker='*')\n",
    "plt.plot(december_chips.rolling(7).mean())\n",
    "plt.grid()\n",
    "plt.title(\"Time Series of Daily Transactions for December\")\n",
    "plt.xlabel(\"Days\")\n",
    "plt.ylabel(\"Number of Transactions\")\n",
    "plt.legend([\"daily transactions\", \"moving weekly average\"])\n",
    "plt.show()"
   ]
  },
  {
   "cell_type": "markdown",
   "metadata": {},
   "source": [
    "### We can see that the increase in sales occurs in the lead-up to Christmas and that there are zero sales on Christmas day itself. This is due to shops being closed on Christmas day. We may want to make more products available the day before christmas as this will make us to pretty maintain our weekly average sales."
   ]
  },
  {
   "cell_type": "markdown",
   "metadata": {},
   "source": [
    "## Creating ````PACK SIZE```` feature"
   ]
  },
  {
   "cell_type": "code",
   "execution_count": 31,
   "metadata": {},
   "outputs": [
    {
     "name": "stdout",
     "output_type": "stream",
     "text": [
      "[70, 90, 110, 125, 134, 135, 150, 160, 165, 170, 175, 180, 190, 200, 210, 220, 250, 270, 330, 380]\n"
     ]
    },
    {
     "data": {
      "text/html": [
       "<div>\n",
       "<style scoped>\n",
       "    .dataframe tbody tr th:only-of-type {\n",
       "        vertical-align: middle;\n",
       "    }\n",
       "\n",
       "    .dataframe tbody tr th {\n",
       "        vertical-align: top;\n",
       "    }\n",
       "\n",
       "    .dataframe thead th {\n",
       "        text-align: right;\n",
       "    }\n",
       "</style>\n",
       "<table border=\"1\" class=\"dataframe\">\n",
       "  <thead>\n",
       "    <tr style=\"text-align: right;\">\n",
       "      <th></th>\n",
       "      <th>DATE</th>\n",
       "      <th>STORE_NBR</th>\n",
       "      <th>LYLTY_CARD_NBR</th>\n",
       "      <th>TXN_ID</th>\n",
       "      <th>PROD_NBR</th>\n",
       "      <th>PROD_NAME</th>\n",
       "      <th>PROD_QTY</th>\n",
       "      <th>TOT_SALES</th>\n",
       "      <th>is_chip</th>\n",
       "      <th>PACK_SIZE</th>\n",
       "    </tr>\n",
       "  </thead>\n",
       "  <tbody>\n",
       "    <tr>\n",
       "      <th>0</th>\n",
       "      <td>2018-10-17</td>\n",
       "      <td>1</td>\n",
       "      <td>1000</td>\n",
       "      <td>1</td>\n",
       "      <td>5</td>\n",
       "      <td>Natural Chip        Compny SeaSalt175g</td>\n",
       "      <td>2</td>\n",
       "      <td>6.0</td>\n",
       "      <td>1</td>\n",
       "      <td>175</td>\n",
       "    </tr>\n",
       "    <tr>\n",
       "      <th>1</th>\n",
       "      <td>2019-05-14</td>\n",
       "      <td>1</td>\n",
       "      <td>1307</td>\n",
       "      <td>348</td>\n",
       "      <td>66</td>\n",
       "      <td>CCs Nacho Cheese    175g</td>\n",
       "      <td>3</td>\n",
       "      <td>6.3</td>\n",
       "      <td>1</td>\n",
       "      <td>175</td>\n",
       "    </tr>\n",
       "    <tr>\n",
       "      <th>2</th>\n",
       "      <td>2019-05-20</td>\n",
       "      <td>1</td>\n",
       "      <td>1343</td>\n",
       "      <td>383</td>\n",
       "      <td>61</td>\n",
       "      <td>Smiths Crinkle Cut  Chips Chicken 170g</td>\n",
       "      <td>2</td>\n",
       "      <td>2.9</td>\n",
       "      <td>1</td>\n",
       "      <td>170</td>\n",
       "    </tr>\n",
       "    <tr>\n",
       "      <th>3</th>\n",
       "      <td>2018-08-17</td>\n",
       "      <td>2</td>\n",
       "      <td>2373</td>\n",
       "      <td>974</td>\n",
       "      <td>69</td>\n",
       "      <td>Smiths Chip Thinly  S/Cream&amp;Onion 175g</td>\n",
       "      <td>5</td>\n",
       "      <td>15.0</td>\n",
       "      <td>1</td>\n",
       "      <td>175</td>\n",
       "    </tr>\n",
       "    <tr>\n",
       "      <th>4</th>\n",
       "      <td>2018-08-18</td>\n",
       "      <td>2</td>\n",
       "      <td>2426</td>\n",
       "      <td>1038</td>\n",
       "      <td>108</td>\n",
       "      <td>Kettle Tortilla ChpsHny&amp;Jlpno Chili 150g</td>\n",
       "      <td>3</td>\n",
       "      <td>13.8</td>\n",
       "      <td>1</td>\n",
       "      <td>150</td>\n",
       "    </tr>\n",
       "  </tbody>\n",
       "</table>\n",
       "</div>"
      ],
      "text/plain": [
       "        DATE  STORE_NBR  LYLTY_CARD_NBR  TXN_ID  PROD_NBR  \\\n",
       "0 2018-10-17          1            1000       1         5   \n",
       "1 2019-05-14          1            1307     348        66   \n",
       "2 2019-05-20          1            1343     383        61   \n",
       "3 2018-08-17          2            2373     974        69   \n",
       "4 2018-08-18          2            2426    1038       108   \n",
       "\n",
       "                                  PROD_NAME  PROD_QTY  TOT_SALES  is_chip  \\\n",
       "0    Natural Chip        Compny SeaSalt175g         2        6.0        1   \n",
       "1                  CCs Nacho Cheese    175g         3        6.3        1   \n",
       "2    Smiths Crinkle Cut  Chips Chicken 170g         2        2.9        1   \n",
       "3    Smiths Chip Thinly  S/Cream&Onion 175g         5       15.0        1   \n",
       "4  Kettle Tortilla ChpsHny&Jlpno Chili 150g         3       13.8        1   \n",
       "\n",
       "   PACK_SIZE  \n",
       "0        175  \n",
       "1        175  \n",
       "2        170  \n",
       "3        175  \n",
       "4        150  "
      ]
     },
     "execution_count": 31,
     "metadata": {},
     "output_type": "execute_result"
    }
   ],
   "source": [
    "patt = r'[0-9]+'\n",
    "chips_df['PACK_SIZE'] = chips_df['PROD_NAME'].apply(lambda prod_name: int(re.findall(patt, prod_name)[0]))\n",
    "print(sorted(chips_df['PACK_SIZE'].unique()))\n",
    "chips_df.head()"
   ]
  },
  {
   "cell_type": "code",
   "execution_count": 32,
   "metadata": {},
   "outputs": [
    {
     "data": {
      "image/png": "[encoded data removed]",
      "text/plain": [
       "<Figure size 432x288 with 1 Axes>"
      ]
     },
     "metadata": {
      "needs_background": "light"
     },
     "output_type": "display_data"
    }
   ],
   "source": [
    "chips_df.hist('PACK_SIZE')\n",
    "plt.xlabel(\"PACK_SIZE\")\n",
    "plt.ylabel(\"Frequency\")\n",
    "plt.title(\"Distribution of PACK_SIZE\")\n",
    "plt.show()"
   ]
  },
  {
   "cell_type": "markdown",
   "metadata": {},
   "source": [
    "### We now see that pack sizes between 162.5g and 187.5 have the highest frequency."
   ]
  },
  {
   "cell_type": "code",
   "execution_count": 33,
   "metadata": {},
   "outputs": [
    {
     "data": {
      "text/plain": [
       "{'Burger Rings 220g',\n",
       " 'CCs Nacho Cheese    175g',\n",
       " 'CCs Original 175g',\n",
       " 'CCs Tasty Cheese    175g',\n",
       " 'Cheetos Chs & Bacon Balls 190g',\n",
       " 'Cheetos Puffs 165g',\n",
       " 'Cheezels Cheese 330g',\n",
       " 'Cheezels Cheese Box 125g',\n",
       " 'Cobs Popd Sea Salt  Chips 110g',\n",
       " 'Cobs Popd Sour Crm  &Chives Chips 110g',\n",
       " 'Cobs Popd Swt/Chlli &Sr/Cream Chips 110g',\n",
       " 'Dorito Corn Chp     Supreme 380g',\n",
       " 'Doritos Cheese      Supreme 330g',\n",
       " 'Doritos Corn Chip Mexican Jalapeno 150g',\n",
       " 'Doritos Corn Chip Southern Chicken 150g',\n",
       " 'Doritos Corn Chips  Cheese Supreme 170g',\n",
       " 'Doritos Corn Chips  Nacho Cheese 170g',\n",
       " 'Doritos Corn Chips  Original 170g',\n",
       " 'Doritos Mexicana    170g',\n",
       " 'French Fries Potato Chips 175g',\n",
       " 'Grain Waves         Sweet Chilli 210g',\n",
       " 'Grain Waves Sour    Cream&Chives 210G',\n",
       " 'GrnWves Plus Btroot & Chilli Jam 180g',\n",
       " 'Infuzions BBQ Rib   Prawn Crackers 110g',\n",
       " 'Infuzions Mango     Chutny Papadums 70g',\n",
       " 'Infuzions SourCream&Herbs Veg Strws 110g',\n",
       " 'Infuzions Thai SweetChili PotatoMix 110g',\n",
       " 'Infzns Crn Crnchers Tangy Gcamole 110g',\n",
       " 'Kettle 135g Swt Pot Sea Salt',\n",
       " 'Kettle Chilli 175g',\n",
       " 'Kettle Honey Soy    Chicken 175g',\n",
       " 'Kettle Mozzarella   Basil & Pesto 175g',\n",
       " 'Kettle Original 175g',\n",
       " 'Kettle Sea Salt     And Vinegar 175g',\n",
       " 'Kettle Sensations   BBQ&Maple 150g',\n",
       " 'Kettle Sensations   Camembert & Fig 150g',\n",
       " 'Kettle Sensations   Siracha Lime 150g',\n",
       " 'Kettle Sweet Chilli And Sour Cream 175g',\n",
       " 'Kettle Tortilla ChpsBtroot&Ricotta 150g',\n",
       " 'Kettle Tortilla ChpsFeta&Garlic 150g',\n",
       " 'Kettle Tortilla ChpsHny&Jlpno Chili 150g',\n",
       " 'NCC Sour Cream &    Garden Chives 175g',\n",
       " 'Natural Chip        Compny SeaSalt175g',\n",
       " 'Natural Chip Co     Tmato Hrb&Spce 175g',\n",
       " 'Natural ChipCo      Hony Soy Chckn175g',\n",
       " 'Natural ChipCo Sea  Salt & Vinegr 175g',\n",
       " 'Pringles Barbeque   134g',\n",
       " 'Pringles Chicken    Salt Crips 134g',\n",
       " 'Pringles Mystery    Flavour 134g',\n",
       " 'Pringles Original   Crisps 134g',\n",
       " 'Pringles Slt Vingar 134g',\n",
       " 'Pringles SourCream  Onion 134g',\n",
       " 'Pringles Sthrn FriedChicken 134g',\n",
       " 'Pringles Sweet&Spcy BBQ 134g',\n",
       " 'RRD Chilli&         Coconut 150g',\n",
       " 'RRD Honey Soy       Chicken 165g',\n",
       " 'RRD Lime & Pepper   165g',\n",
       " 'RRD Pc Sea Salt     165g',\n",
       " 'RRD SR Slow Rst     Pork Belly 150g',\n",
       " 'RRD Salt & Vinegar  165g',\n",
       " 'RRD Steak &         Chimuchurri 150g',\n",
       " 'RRD Sweet Chilli &  Sour Cream 165g',\n",
       " 'Red Rock Deli Chikn&Garlic Aioli 150g',\n",
       " 'Red Rock Deli Sp    Salt & Truffle 150G',\n",
       " 'Red Rock Deli Thai  Chilli&Lime 150g',\n",
       " 'Smith Crinkle Cut   Bolognese 150g',\n",
       " 'Smith Crinkle Cut   Mac N Cheese 150g',\n",
       " 'Smiths Chip Thinly  Cut Original 175g',\n",
       " 'Smiths Chip Thinly  CutSalt/Vinegr175g',\n",
       " 'Smiths Chip Thinly  S/Cream&Onion 175g',\n",
       " 'Smiths Crinkle      Original 330g',\n",
       " 'Smiths Crinkle Chips Salt & Vinegar 330g',\n",
       " 'Smiths Crinkle Cut  Chips Barbecue 170g',\n",
       " 'Smiths Crinkle Cut  Chips Chicken 170g',\n",
       " 'Smiths Crinkle Cut  Chips Chs&Onion170g',\n",
       " 'Smiths Crinkle Cut  Chips Original 170g',\n",
       " 'Smiths Crinkle Cut  French OnionDip 150g',\n",
       " 'Smiths Crinkle Cut  Salt & Vinegar 170g',\n",
       " 'Smiths Crinkle Cut  Snag&Sauce 150g',\n",
       " 'Smiths Crnkle Chip  Orgnl Big Bag 380g',\n",
       " 'Smiths Thinly       Swt Chli&S/Cream175G',\n",
       " 'Smiths Thinly Cut   Roast Chicken 175g',\n",
       " 'Snbts Whlgrn Crisps Cheddr&Mstrd 90g',\n",
       " 'Sunbites Whlegrn    Crisps Frch/Onin 90g',\n",
       " 'Thins Chips         Originl saltd 175g',\n",
       " 'Thins Chips Light&  Tangy 175g',\n",
       " 'Thins Chips Salt &  Vinegar 175g',\n",
       " 'Thins Chips Seasonedchicken 175g',\n",
       " 'Thins Potato Chips  Hot & Spicy 175g',\n",
       " 'Tostitos Lightly    Salted 175g',\n",
       " 'Tostitos Smoked     Chipotle 175g',\n",
       " 'Tostitos Splash Of  Lime 175g',\n",
       " 'Twisties Cheese     270g',\n",
       " 'Twisties Cheese     Burger 250g',\n",
       " 'Twisties Chicken270g',\n",
       " 'Tyrrells Crisps     Ched & Chives 165g',\n",
       " 'Tyrrells Crisps     Lightly Salted 165g',\n",
       " 'WW Crinkle Cut      Chicken 175g',\n",
       " 'WW Crinkle Cut      Original 175g',\n",
       " 'WW D/Style Chip     Sea Salt 200g',\n",
       " 'WW Original Corn    Chips 200g',\n",
       " 'WW Original Stacked Chips 160g',\n",
       " 'WW Sour Cream &OnionStacked Chips 160g',\n",
       " 'WW Supreme Cheese   Corn Chips 200g',\n",
       " 'Woolworths Cheese   Rings 190g'}"
      ]
     },
     "execution_count": 33,
     "metadata": {},
     "output_type": "execute_result"
    }
   ],
   "source": [
    "unique_chips # checking the unique chip product names"
   ]
  },
  {
   "cell_type": "code",
   "execution_count": 34,
   "metadata": {},
   "outputs": [],
   "source": [
    "# creating a dictionary to map brand names to their abbreviations.\n",
    "abbreviation_map = {'Dorito': 'Doritos', 'Grain': 'GrnWves', 'Infzns': 'Infuzions', 'Natural': 'NCC', 'Red': 'RRD',\n",
    "                    'Smith': 'Smiths', 'Sunbites': 'Snbts'}"
   ]
  },
  {
   "cell_type": "markdown",
   "metadata": {},
   "source": [
    "### Creating ````BRAND_NAME```` feature."
   ]
  },
  {
   "cell_type": "code",
   "execution_count": 35,
   "metadata": {},
   "outputs": [],
   "source": [
    "chips_df['BRAND_NAME'] = chips_df['PROD_NAME'].apply(lambda prod_name: prod_name.split()[0]).apply(\\\n",
    "                                    lambda prod_name: abbreviation_map[prod_name.split()[0]] if prod_name.split()[0] \n",
    "                                        in abbreviation_map else prod_name)"
   ]
  },
  {
   "cell_type": "code",
   "execution_count": 36,
   "metadata": {},
   "outputs": [
    {
     "data": {
      "text/html": [
       "<div>\n",
       "<style scoped>\n",
       "    .dataframe tbody tr th:only-of-type {\n",
       "        vertical-align: middle;\n",
       "    }\n",
       "\n",
       "    .dataframe tbody tr th {\n",
       "        vertical-align: top;\n",
       "    }\n",
       "\n",
       "    .dataframe thead th {\n",
       "        text-align: right;\n",
       "    }\n",
       "</style>\n",
       "<table border=\"1\" class=\"dataframe\">\n",
       "  <thead>\n",
       "    <tr style=\"text-align: right;\">\n",
       "      <th></th>\n",
       "      <th>DATE</th>\n",
       "      <th>STORE_NBR</th>\n",
       "      <th>LYLTY_CARD_NBR</th>\n",
       "      <th>TXN_ID</th>\n",
       "      <th>PROD_NBR</th>\n",
       "      <th>PROD_NAME</th>\n",
       "      <th>PROD_QTY</th>\n",
       "      <th>TOT_SALES</th>\n",
       "      <th>is_chip</th>\n",
       "      <th>PACK_SIZE</th>\n",
       "      <th>BRAND_NAME</th>\n",
       "    </tr>\n",
       "  </thead>\n",
       "  <tbody>\n",
       "    <tr>\n",
       "      <th>0</th>\n",
       "      <td>2018-10-17</td>\n",
       "      <td>1</td>\n",
       "      <td>1000</td>\n",
       "      <td>1</td>\n",
       "      <td>5</td>\n",
       "      <td>Natural Chip        Compny SeaSalt175g</td>\n",
       "      <td>2</td>\n",
       "      <td>6.0</td>\n",
       "      <td>1</td>\n",
       "      <td>175</td>\n",
       "      <td>NCC</td>\n",
       "    </tr>\n",
       "    <tr>\n",
       "      <th>1</th>\n",
       "      <td>2019-05-14</td>\n",
       "      <td>1</td>\n",
       "      <td>1307</td>\n",
       "      <td>348</td>\n",
       "      <td>66</td>\n",
       "      <td>CCs Nacho Cheese    175g</td>\n",
       "      <td>3</td>\n",
       "      <td>6.3</td>\n",
       "      <td>1</td>\n",
       "      <td>175</td>\n",
       "      <td>CCs</td>\n",
       "    </tr>\n",
       "    <tr>\n",
       "      <th>2</th>\n",
       "      <td>2019-05-20</td>\n",
       "      <td>1</td>\n",
       "      <td>1343</td>\n",
       "      <td>383</td>\n",
       "      <td>61</td>\n",
       "      <td>Smiths Crinkle Cut  Chips Chicken 170g</td>\n",
       "      <td>2</td>\n",
       "      <td>2.9</td>\n",
       "      <td>1</td>\n",
       "      <td>170</td>\n",
       "      <td>Smiths</td>\n",
       "    </tr>\n",
       "    <tr>\n",
       "      <th>3</th>\n",
       "      <td>2018-08-17</td>\n",
       "      <td>2</td>\n",
       "      <td>2373</td>\n",
       "      <td>974</td>\n",
       "      <td>69</td>\n",
       "      <td>Smiths Chip Thinly  S/Cream&amp;Onion 175g</td>\n",
       "      <td>5</td>\n",
       "      <td>15.0</td>\n",
       "      <td>1</td>\n",
       "      <td>175</td>\n",
       "      <td>Smiths</td>\n",
       "    </tr>\n",
       "    <tr>\n",
       "      <th>4</th>\n",
       "      <td>2018-08-18</td>\n",
       "      <td>2</td>\n",
       "      <td>2426</td>\n",
       "      <td>1038</td>\n",
       "      <td>108</td>\n",
       "      <td>Kettle Tortilla ChpsHny&amp;Jlpno Chili 150g</td>\n",
       "      <td>3</td>\n",
       "      <td>13.8</td>\n",
       "      <td>1</td>\n",
       "      <td>150</td>\n",
       "      <td>Kettle</td>\n",
       "    </tr>\n",
       "  </tbody>\n",
       "</table>\n",
       "</div>"
      ],
      "text/plain": [
       "        DATE  STORE_NBR  LYLTY_CARD_NBR  TXN_ID  PROD_NBR  \\\n",
       "0 2018-10-17          1            1000       1         5   \n",
       "1 2019-05-14          1            1307     348        66   \n",
       "2 2019-05-20          1            1343     383        61   \n",
       "3 2018-08-17          2            2373     974        69   \n",
       "4 2018-08-18          2            2426    1038       108   \n",
       "\n",
       "                                  PROD_NAME  PROD_QTY  TOT_SALES  is_chip  \\\n",
       "0    Natural Chip        Compny SeaSalt175g         2        6.0        1   \n",
       "1                  CCs Nacho Cheese    175g         3        6.3        1   \n",
       "2    Smiths Crinkle Cut  Chips Chicken 170g         2        2.9        1   \n",
       "3    Smiths Chip Thinly  S/Cream&Onion 175g         5       15.0        1   \n",
       "4  Kettle Tortilla ChpsHny&Jlpno Chili 150g         3       13.8        1   \n",
       "\n",
       "   PACK_SIZE BRAND_NAME  \n",
       "0        175        NCC  \n",
       "1        175        CCs  \n",
       "2        170     Smiths  \n",
       "3        175     Smiths  \n",
       "4        150     Kettle  "
      ]
     },
     "execution_count": 36,
     "metadata": {},
     "output_type": "execute_result"
    }
   ],
   "source": [
    "chips_df.head()"
   ]
  },
  {
   "cell_type": "code",
   "execution_count": 37,
   "metadata": {},
   "outputs": [
    {
     "name": "stdout",
     "output_type": "stream",
     "text": [
      "unique chips brand names are ['Burger', 'CCs', 'Cheetos', 'Cheezels', 'Cobs', 'Doritos', 'French', 'GrnWves', 'Infuzions', 'Kettle', 'NCC', 'Pringles', 'RRD', 'Smiths', 'Snbts', 'Thins', 'Tostitos', 'Twisties', 'Tyrrells', 'WW', 'Woolworths'], and they are 21 in number\n"
     ]
    }
   ],
   "source": [
    "unique_brands = set(chips_df['BRAND_NAME'])\n",
    "print(f\"unique chips brand names are {sorted(list(unique_brands))}, and they are {len(unique_brands)} in number\")"
   ]
  },
  {
   "cell_type": "markdown",
   "metadata": {},
   "source": [
    "### Merging transaction data to customer data"
   ]
  },
  {
   "cell_type": "code",
   "execution_count": 38,
   "metadata": {},
   "outputs": [],
   "source": [
    "merged_df = pd.merge(chips_df, purchase_behaviour, on='LYLTY_CARD_NBR', how='left')"
   ]
  },
  {
   "cell_type": "code",
   "execution_count": 39,
   "metadata": {},
   "outputs": [
    {
     "data": {
      "text/html": [
       "<div>\n",
       "<style scoped>\n",
       "    .dataframe tbody tr th:only-of-type {\n",
       "        vertical-align: middle;\n",
       "    }\n",
       "\n",
       "    .dataframe tbody tr th {\n",
       "        vertical-align: top;\n",
       "    }\n",
       "\n",
       "    .dataframe thead th {\n",
       "        text-align: right;\n",
       "    }\n",
       "</style>\n",
       "<table border=\"1\" class=\"dataframe\">\n",
       "  <thead>\n",
       "    <tr style=\"text-align: right;\">\n",
       "      <th></th>\n",
       "      <th>DATE</th>\n",
       "      <th>STORE_NBR</th>\n",
       "      <th>LYLTY_CARD_NBR</th>\n",
       "      <th>TXN_ID</th>\n",
       "      <th>PROD_NBR</th>\n",
       "      <th>PROD_NAME</th>\n",
       "      <th>PROD_QTY</th>\n",
       "      <th>TOT_SALES</th>\n",
       "      <th>is_chip</th>\n",
       "      <th>PACK_SIZE</th>\n",
       "      <th>BRAND_NAME</th>\n",
       "      <th>LIFESTAGE</th>\n",
       "      <th>PREMIUM_CUSTOMER</th>\n",
       "    </tr>\n",
       "  </thead>\n",
       "  <tbody>\n",
       "    <tr>\n",
       "      <th>0</th>\n",
       "      <td>2018-10-17</td>\n",
       "      <td>1</td>\n",
       "      <td>1000</td>\n",
       "      <td>1</td>\n",
       "      <td>5</td>\n",
       "      <td>Natural Chip        Compny SeaSalt175g</td>\n",
       "      <td>2</td>\n",
       "      <td>6.0</td>\n",
       "      <td>1</td>\n",
       "      <td>175</td>\n",
       "      <td>NCC</td>\n",
       "      <td>YOUNG SINGLES/COUPLES</td>\n",
       "      <td>Premium</td>\n",
       "    </tr>\n",
       "    <tr>\n",
       "      <th>1</th>\n",
       "      <td>2019-05-14</td>\n",
       "      <td>1</td>\n",
       "      <td>1307</td>\n",
       "      <td>348</td>\n",
       "      <td>66</td>\n",
       "      <td>CCs Nacho Cheese    175g</td>\n",
       "      <td>3</td>\n",
       "      <td>6.3</td>\n",
       "      <td>1</td>\n",
       "      <td>175</td>\n",
       "      <td>CCs</td>\n",
       "      <td>MIDAGE SINGLES/COUPLES</td>\n",
       "      <td>Budget</td>\n",
       "    </tr>\n",
       "    <tr>\n",
       "      <th>2</th>\n",
       "      <td>2019-05-20</td>\n",
       "      <td>1</td>\n",
       "      <td>1343</td>\n",
       "      <td>383</td>\n",
       "      <td>61</td>\n",
       "      <td>Smiths Crinkle Cut  Chips Chicken 170g</td>\n",
       "      <td>2</td>\n",
       "      <td>2.9</td>\n",
       "      <td>1</td>\n",
       "      <td>170</td>\n",
       "      <td>Smiths</td>\n",
       "      <td>MIDAGE SINGLES/COUPLES</td>\n",
       "      <td>Budget</td>\n",
       "    </tr>\n",
       "    <tr>\n",
       "      <th>3</th>\n",
       "      <td>2018-08-17</td>\n",
       "      <td>2</td>\n",
       "      <td>2373</td>\n",
       "      <td>974</td>\n",
       "      <td>69</td>\n",
       "      <td>Smiths Chip Thinly  S/Cream&amp;Onion 175g</td>\n",
       "      <td>5</td>\n",
       "      <td>15.0</td>\n",
       "      <td>1</td>\n",
       "      <td>175</td>\n",
       "      <td>Smiths</td>\n",
       "      <td>MIDAGE SINGLES/COUPLES</td>\n",
       "      <td>Budget</td>\n",
       "    </tr>\n",
       "    <tr>\n",
       "      <th>4</th>\n",
       "      <td>2018-08-18</td>\n",
       "      <td>2</td>\n",
       "      <td>2426</td>\n",
       "      <td>1038</td>\n",
       "      <td>108</td>\n",
       "      <td>Kettle Tortilla ChpsHny&amp;Jlpno Chili 150g</td>\n",
       "      <td>3</td>\n",
       "      <td>13.8</td>\n",
       "      <td>1</td>\n",
       "      <td>150</td>\n",
       "      <td>Kettle</td>\n",
       "      <td>MIDAGE SINGLES/COUPLES</td>\n",
       "      <td>Budget</td>\n",
       "    </tr>\n",
       "  </tbody>\n",
       "</table>\n",
       "</div>"
      ],
      "text/plain": [
       "        DATE  STORE_NBR  LYLTY_CARD_NBR  TXN_ID  PROD_NBR  \\\n",
       "0 2018-10-17          1            1000       1         5   \n",
       "1 2019-05-14          1            1307     348        66   \n",
       "2 2019-05-20          1            1343     383        61   \n",
       "3 2018-08-17          2            2373     974        69   \n",
       "4 2018-08-18          2            2426    1038       108   \n",
       "\n",
       "                                  PROD_NAME  PROD_QTY  TOT_SALES  is_chip  \\\n",
       "0    Natural Chip        Compny SeaSalt175g         2        6.0        1   \n",
       "1                  CCs Nacho Cheese    175g         3        6.3        1   \n",
       "2    Smiths Crinkle Cut  Chips Chicken 170g         2        2.9        1   \n",
       "3    Smiths Chip Thinly  S/Cream&Onion 175g         5       15.0        1   \n",
       "4  Kettle Tortilla ChpsHny&Jlpno Chili 150g         3       13.8        1   \n",
       "\n",
       "   PACK_SIZE BRAND_NAME               LIFESTAGE PREMIUM_CUSTOMER  \n",
       "0        175        NCC   YOUNG SINGLES/COUPLES          Premium  \n",
       "1        175        CCs  MIDAGE SINGLES/COUPLES           Budget  \n",
       "2        170     Smiths  MIDAGE SINGLES/COUPLES           Budget  \n",
       "3        175     Smiths  MIDAGE SINGLES/COUPLES           Budget  \n",
       "4        150     Kettle  MIDAGE SINGLES/COUPLES           Budget  "
      ]
     },
     "execution_count": 39,
     "metadata": {},
     "output_type": "execute_result"
    }
   ],
   "source": [
    "merged_df.head()"
   ]
  },
  {
   "cell_type": "code",
   "execution_count": 40,
   "metadata": {},
   "outputs": [],
   "source": [
    "assert merged_df.shape[0] == chips_df.shape[0] # checking for no duplicates"
   ]
  },
  {
   "cell_type": "code",
   "execution_count": 41,
   "metadata": {},
   "outputs": [
    {
     "data": {
      "text/plain": [
       "True"
      ]
     },
     "execution_count": 41,
     "metadata": {},
     "output_type": "execute_result"
    }
   ],
   "source": [
    "merged_df.isnull().any(None) == False # checking if there are any Nan values"
   ]
  },
  {
   "cell_type": "code",
   "execution_count": 42,
   "metadata": {},
   "outputs": [],
   "source": [
    "#merged_df.to_csv(\"cleaned_transaction_customer_data.csv\")"
   ]
  },
  {
   "cell_type": "markdown",
   "metadata": {},
   "source": [
    "## Data Analysis"
   ]
  },
  {
   "cell_type": "code",
   "execution_count": 43,
   "metadata": {},
   "outputs": [
    {
     "data": {
      "text/plain": [
       "1350"
      ]
     },
     "execution_count": 43,
     "metadata": {},
     "output_type": "execute_result"
    }
   ],
   "source": [
    "len(set(purchase_behaviour['LYLTY_CARD_NBR']) - set(merged_df['LYLTY_CARD_NBR'])) # checking number of customers who didn't\n",
    "                                                                                  # chips"
   ]
  },
  {
   "cell_type": "code",
   "execution_count": 44,
   "metadata": {},
   "outputs": [],
   "source": [
    "#chips_customers_df = purchase_behaviour.set_index('LYLTY_CARD_NBR').loc[merged_df['LYLTY_CARD_NBR'].unique()]"
   ]
  },
  {
   "cell_type": "code",
   "execution_count": 45,
   "metadata": {},
   "outputs": [],
   "source": [
    "customer_segments = merged_df.groupby(['PREMIUM_CUSTOMER', 'LIFESTAGE']) # creating a groupby object of \n",
    "                                                                         # premium customers-lifestage groups."
   ]
  },
  {
   "cell_type": "code",
   "execution_count": 46,
   "metadata": {},
   "outputs": [],
   "source": [
    "# defining a function to plot a multiple bar chart of a given dataframe. Function is optimized for our task.\n",
    "def customer_segment_bar(df, loc='best', bbox_to_anchor=None, ylabel=None, title=None):\n",
    "    \"\"\"This function plots a multiple bar chart  of a given dataframe.\n",
    "    Signature: customer_segment_bar(df, loc='best')\n",
    "    \n",
    "    Args:\n",
    "        df: a dataframe with a two-level index to be used for multiple bar charts. \n",
    "         The first level is for color coding the bars, while the second level for grouping the bars.\n",
    "         \n",
    "        loc: used to specify the location of the legend axes. Same as those of matplotlib.pyplot\n",
    "        \n",
    "        bbox_to_anchor: used to set the location of the legend axes. Same as those of matplotlib.pyplot\n",
    "        \n",
    "        ylabel: a string to be used for the ylabel of the chart\n",
    "        \n",
    "        title: a string to be used for the title of the chart\n",
    "        \n",
    "    Return:\n",
    "        A multiple barchart.\n",
    "    \n",
    "    \"\"\"\n",
    "    a = sorted(list({i[0] for i in df.index})) # gets the unique first level index\n",
    "    b = sorted(list({i[1] for i in df.index})) # gets the unique second level index\n",
    "    \n",
    "    x = np.arange(len(b)) # to be used for the horizontal axis\n",
    "    y = [[df[i][j] for j in b] for i in a] # uses a and b to get the data from df as a list of lists.\n",
    "    \n",
    "    # plotting the multiple bar chart\n",
    "    fig = plt.figure(figsize=(8, 4))\n",
    "    plt.bar(x, y[0], color='r', width=0.25)\n",
    "    plt.bar(x+0.25, y[1], color='b', width=0.25)\n",
    "    plt.bar(x+0.5, y[2], color='g', width=0.25)\n",
    "    plt.xticks(x+0.25, b, rotation=90)\n",
    "    \n",
    "    if bbox_to_anchor is not None:\n",
    "        plt.legend(a, loc=loc, bbox_to_anchor=bbox_to_anchor)\n",
    "        \n",
    "    else:\n",
    "        plt.legend(a, loc=loc)\n",
    "        \n",
    "    plt.xlabel(\"Customer Segments\")\n",
    "    \n",
    "    if ylabel is not None:\n",
    "        plt.ylabel(ylabel)\n",
    "        \n",
    "    if title is not None:\n",
    "        plt.title(title)\n",
    "        \n",
    "    plt.grid()\n",
    "#    plt.show()"
   ]
  },
  {
   "cell_type": "markdown",
   "metadata": {},
   "source": [
    "### Total sales by ````LIFESTAGE```` and ````PREMIUM_CUSTOMER````"
   ]
  },
  {
   "cell_type": "code",
   "execution_count": 47,
   "metadata": {},
   "outputs": [
    {
     "data": {
      "image/png": "[encoded data removed]",
      "text/plain": [
       "<Figure size 576x288 with 1 Axes>"
      ]
     },
     "metadata": {
      "needs_background": "light"
     },
     "output_type": "display_data"
    }
   ],
   "source": [
    "customer_segment_bar(customer_segments['TOT_SALES'].sum(), \n",
    "                     ylabel=\"Total sales\", \n",
    "                     title=\"Total sales by LIFESTAGE and PREMIUM_CUSTOMER\")"
   ]
  },
  {
   "cell_type": "markdown",
   "metadata": {},
   "source": [
    "### Sales are coming mainly from Budget - older families, Mainstream - young singles/couples, and Mainstream - retirees. Let's see if the higher sales are due to there being more customers who buy chips."
   ]
  },
  {
   "cell_type": "markdown",
   "metadata": {},
   "source": [
    "### Number of customers by ````LIFESTAGE```` and ````PREMIUM_CUSTOMER````"
   ]
  },
  {
   "cell_type": "code",
   "execution_count": 48,
   "metadata": {},
   "outputs": [
    {
     "data": {
      "image/png": "[encoded data removed]",
      "text/plain": [
       "<Figure size 576x288 with 1 Axes>"
      ]
     },
     "metadata": {
      "needs_background": "light"
     },
     "output_type": "display_data"
    }
   ],
   "source": [
    "customer_segment_bar(customer_segments['LYLTY_CARD_NBR'].apply(lambda x: x.unique().shape[0]),\n",
    "                    ylabel=\"Number of Customers\",\n",
    "                    title=\"Number of customers by LIFESTAGE and PREMIUM_CUSTOMER\")"
   ]
  },
  {
   "cell_type": "markdown",
   "metadata": {},
   "source": [
    "### There are more Mainstream - young singles/couples and Mainstream - retirees who buy chips. This contributes to there being more sales to these customer segments but this is not a major driver for the Budget - Older families segment.\n",
    "\n",
    "### Higher sales may also be driven by more units of chips being bought per customer. Let's have a look at this next."
   ]
  },
  {
   "cell_type": "markdown",
   "metadata": {},
   "source": [
    "### Average number of units per customer by ````LIFESTAGE```` and ````PREMIUM_CUSTOMER````"
   ]
  },
  {
   "cell_type": "code",
   "execution_count": 49,
   "metadata": {},
   "outputs": [
    {
     "data": {
      "image/png": "[encoded data removed]",
      "text/plain": [
       "<Figure size 576x288 with 1 Axes>"
      ]
     },
     "metadata": {
      "needs_background": "light"
     },
     "output_type": "display_data"
    }
   ],
   "source": [
    "customer_segment_bar(customer_segments.apply(lambda x: x['PROD_QTY'].sum() / x['LYLTY_CARD_NBR'].unique().shape[0]),\n",
    "                    ylabel=\"Average number of units per customer\",\n",
    "                    title=\"Average number of units per customer by LIFESTAGE and PREMIUM_CUSTOMER\")"
   ]
  },
  {
   "cell_type": "markdown",
   "metadata": {},
   "source": [
    "### Older families and young families in general buy more chips per customer. What could then be the major driver of sales for Mainstream and Premium Old Familes? Let's also investigate the average price per unit chips bought for each customer segment as this is also a driver of total sales."
   ]
  },
  {
   "cell_type": "markdown",
   "metadata": {},
   "source": [
    "### Average price per unit by ````LIFESTAGE```` and ````PREMIUM_CUSTOMER````"
   ]
  },
  {
   "cell_type": "code",
   "execution_count": 50,
   "metadata": {},
   "outputs": [
    {
     "data": {
      "image/png": "[encoded data removed]",
      "text/plain": [
       "<Figure size 576x288 with 1 Axes>"
      ]
     },
     "metadata": {
      "needs_background": "light"
     },
     "output_type": "display_data"
    }
   ],
   "source": [
    "customer_segment_bar(customer_segments.apply(lambda x: x['TOT_SALES'].sum() / x['PROD_QTY'].sum()), loc='lower right', \n",
    "                     bbox_to_anchor=(1.24, 0), ylabel=\"Average price per unit\",\n",
    "                     title=\"Average price per unit by LIFESTAGE and PREMIUM_CUSTOMER\")"
   ]
  },
  {
   "cell_type": "markdown",
   "metadata": {},
   "source": [
    "### All old families again have amost same average price per unit. What could be driving sales for Budget Old Families? Also, Mainstream midage and young singles and couples are more willing to pay more per packet of chips compared to their budget and premium counterparts. This may be due to premium shoppers being more likely to buy healthy snacks and when they buy chips, this is mainly for entertainment purposes rather than their own consumption. This is also supported by there being fewer premium midage and young singles and couples buying chips compared to their mainstream counterparts. Let's check the number of orders made by each customer segment."
   ]
  },
  {
   "cell_type": "markdown",
   "metadata": {},
   "source": [
    "### Number of orders by ````LIFESTAGE```` and ````PREMIUM_CUSTOMER````"
   ]
  },
  {
   "cell_type": "code",
   "execution_count": 51,
   "metadata": {},
   "outputs": [
    {
     "data": {
      "image/png": "[encoded data removed]",
      "text/plain": [
       "<Figure size 576x288 with 1 Axes>"
      ]
     },
     "metadata": {
      "needs_background": "light"
     },
     "output_type": "display_data"
    }
   ],
   "source": [
    "customer_segment_bar(customer_segments['TOT_SALES'].count(),\n",
    "                    ylabel=\"Number of orders\",\n",
    "                    title=\"Number of orders by LIFESTAGE and PREMIUM_CUSTOMER\")"
   ]
  },
  {
   "cell_type": "markdown",
   "metadata": {},
   "source": [
    "### We see that premium and budget midage and young singles made fewer orders compared to their mainstream counterparts. Also, Budget Old Families make more orders than their Mainstream and premium counterparts. This could be the major driver for their increased sales. Since Budget Old Families have approximately the same number of units per order and the same price per unit with their Mainstream and premium counterparts; the number of orders was scaled by the number of customers they have more than their Mainstream and premium counterparts."
   ]
  },
  {
   "cell_type": "code",
   "execution_count": 52,
   "metadata": {},
   "outputs": [
    {
     "data": {
      "image/png": "[encoded data removed]",
      "text/plain": [
       "<Figure size 576x288 with 1 Axes>"
      ]
     },
     "metadata": {
      "needs_background": "light"
     },
     "output_type": "display_data"
    }
   ],
   "source": [
    "customer_segment_bar(customer_segments['PROD_QTY'].sum(),\n",
    "                    ylabel=\"Number of product quantity\",\n",
    "                    title=\"Number of product quantity by LIFESTAGE and PREMIUM_CUSTOMER\")"
   ]
  },
  {
   "cell_type": "markdown",
   "metadata": {},
   "source": [
    "### More product quantities are coming mainly from Budget - older families, Mainstream - young singles/couples, and Mainstream - retirees. Let's see if the higher sales are due to there being more customers who buy chips."
   ]
  },
  {
   "cell_type": "markdown",
   "metadata": {},
   "source": [
    "### As the difference in average price per unit isn't large, we can check if this difference is statistically significant by performing an independent t-test between mainstream vs premium and budget midage and young singles and couples."
   ]
  },
  {
   "cell_type": "markdown",
   "metadata": {},
   "source": [
    "### t-test"
   ]
  },
  {
   "cell_type": "code",
   "execution_count": 53,
   "metadata": {},
   "outputs": [],
   "source": [
    "# filtering out the mainstream young singles/couples and midage dataframe\n",
    "mainstream_mid_young = merged_df[\n",
    "        (merged_df['PREMIUM_CUSTOMER'] == 'Mainstream')\n",
    "        &\n",
    "        (\n",
    "            (merged_df['LIFESTAGE'] == 'YOUNG SINGLES/COUPLES')\n",
    "            |\n",
    "            (merged_df['LIFESTAGE'] == 'MIDAGE SINGLES/COUPLES')\n",
    "        )\n",
    "]"
   ]
  },
  {
   "cell_type": "code",
   "execution_count": 54,
   "metadata": {},
   "outputs": [
    {
     "data": {
      "text/plain": [
       "array(['MIDAGE SINGLES/COUPLES', 'YOUNG SINGLES/COUPLES'], dtype=object)"
      ]
     },
     "execution_count": 54,
     "metadata": {},
     "output_type": "execute_result"
    }
   ],
   "source": [
    "# confirming that our filtration was done properly\n",
    "assert mainstream_mid_young['PREMIUM_CUSTOMER'].unique()[0] == 'Mainstream'\n",
    "mainstream_mid_young['LIFESTAGE'].unique()"
   ]
  },
  {
   "cell_type": "code",
   "execution_count": 55,
   "metadata": {},
   "outputs": [],
   "source": [
    "# filtering out premium and budget young singles/couples and midage dataframe\n",
    "premium_budget_mid_young = merged_df[\n",
    "    (\n",
    "        (merged_df['PREMIUM_CUSTOMER'] == 'Premium')\n",
    "        &\n",
    "        (\n",
    "            (merged_df['LIFESTAGE'] == 'YOUNG SINGLES/COUPLES')\n",
    "            |\n",
    "            (merged_df['LIFESTAGE'] == 'MIDAGE SINGLES/COUPLES')\n",
    "        )\n",
    "    )\n",
    "    \n",
    "    |\n",
    "    \n",
    "    (\n",
    "        (merged_df['PREMIUM_CUSTOMER'] == 'Budget')\n",
    "        &\n",
    "        (\n",
    "            (merged_df['LIFESTAGE'] == 'YOUNG SINGLES/COUPLES')\n",
    "            |\n",
    "            (merged_df['LIFESTAGE'] == 'MIDAGE SINGLES/COUPLES')\n",
    "        )\n",
    "    )\n",
    "]"
   ]
  },
  {
   "cell_type": "code",
   "execution_count": 56,
   "metadata": {},
   "outputs": [
    {
     "name": "stdout",
     "output_type": "stream",
     "text": [
      "['Premium' 'Budget']\n"
     ]
    },
    {
     "data": {
      "text/plain": [
       "array(['YOUNG SINGLES/COUPLES', 'MIDAGE SINGLES/COUPLES'], dtype=object)"
      ]
     },
     "execution_count": 56,
     "metadata": {},
     "output_type": "execute_result"
    }
   ],
   "source": [
    "# confirming that our filtration was done properly\n",
    "print(premium_budget_mid_young['PREMIUM_CUSTOMER'].unique())\n",
    "premium_budget_mid_young['LIFESTAGE'].unique()"
   ]
  },
  {
   "cell_type": "code",
   "execution_count": 57,
   "metadata": {},
   "outputs": [
    {
     "name": "stdout",
     "output_type": "stream",
     "text": [
      "t statistics is 11.666855201285447\n",
      "p-value is 9.835818678292617e-32\n"
     ]
    }
   ],
   "source": [
    "# calculating the mean, number of observations and standard deviation for the two samples\n",
    "m1 = mainstream_mid_young['TOT_SALES'].sum() / mainstream_mid_young['PROD_QTY'].sum()\n",
    "n1 = mainstream_mid_young['PROD_QTY'].sum()\n",
    "s1 = np.sqrt((mainstream_mid_young['PROD_QTY'] * (mainstream_mid_young['TOT_SALES'] - m1)**2).sum() / (n1-1))\n",
    "\n",
    "m2 = premium_budget_mid_young['TOT_SALES'].sum() / premium_budget_mid_young['PROD_QTY'].sum()\n",
    "n2 = premium_budget_mid_young['PROD_QTY'].sum()\n",
    "s2 = np.sqrt((premium_budget_mid_young['PROD_QTY'] * (premium_budget_mid_young['TOT_SALES'] - m2)**2).sum() / (n2-1))\n",
    "\n",
    "t, p = ttest_ind_from_stats(m1, s1, n1, m2, s2, n2) # computing the t-statistics\n",
    "p /= 2 # returned p-value is that of two-sided t-test, halving it will return a one-sided p-value\n",
    "print(f\"t statistics is {t}\")\n",
    "print(f\"p-value is {p}\")"
   ]
  },
  {
   "cell_type": "code",
   "execution_count": 58,
   "metadata": {},
   "outputs": [
    {
     "name": "stdout",
     "output_type": "stream",
     "text": [
      "106794\n"
     ]
    }
   ],
   "source": [
    "deg_of_freedom = n1+n2-2\n",
    "print(deg_of_freedom)"
   ]
  },
  {
   "cell_type": "markdown",
   "metadata": {},
   "source": [
    "### we reject the null hypothesis that (premium and budget midage and young singles/couples average price per unit) >= that of mainstream beacause p < 0.5. Also t is greater than 1.645 which is the critical t value gotten from a t-table. We conclude that this difference is significant and is not due to random chance."
   ]
  },
  {
   "cell_type": "markdown",
   "metadata": {},
   "source": [
    "## Affinity test"
   ]
  },
  {
   "cell_type": "markdown",
   "metadata": {},
   "source": [
    "### We might want to target customer segments that contribute the most to sales to retain them or further increase sales. Let's look at Budget - Older Families, Mainstream - Retirees, and Mainstream -Young Singles/Couples (who are more willing to pay more per packet of chips). For instance, let's find out if they tend to buy a particular brand of chips."
   ]
  },
  {
   "cell_type": "code",
   "execution_count": 59,
   "metadata": {},
   "outputs": [],
   "source": [
    "# one hot encoding of the brand names\n",
    "brand_name_onehot = merged_df.reset_index()[['index', 'BRAND_NAME']].pivot_table(index='index', columns='BRAND_NAME', \n",
    "                                                                                 aggfunc=len, fill_value=0)\n",
    "\n",
    "assert (brand_name_onehot > 1).sum().sum() == 0\n",
    "assert merged_df.shape[0] == brand_name_onehot.shape[0]\n",
    "\n",
    "brand_name_onehot = brand_name_onehot == 1 # converting the onehot encoding to boolean values"
   ]
  },
  {
   "cell_type": "code",
   "execution_count": 60,
   "metadata": {},
   "outputs": [],
   "source": [
    "# filtering out the budget older dataframe\n",
    "budget_older = merged_df[\n",
    "        (merged_df['PREMIUM_CUSTOMER'] == 'Budget')\n",
    "        &\n",
    "        (merged_df['LIFESTAGE'] == 'OLDER FAMILIES')\n",
    "]\n",
    "\n",
    "# filtering out the mainstream young singles/couples dataframe\n",
    "mainstream_young = merged_df[\n",
    "        (merged_df['PREMIUM_CUSTOMER'] == 'Mainstream')\n",
    "        &\n",
    "        (merged_df['LIFESTAGE'] == 'YOUNG SINGLES/COUPLES')\n",
    "]\n",
    "\n",
    "# filtering out the budget older dataframe\n",
    "mainstream_retirees = merged_df[\n",
    "        (merged_df['PREMIUM_CUSTOMER'] == 'Mainstream')\n",
    "        &\n",
    "        (merged_df['LIFESTAGE'] == 'RETIREES')\n",
    "]"
   ]
  },
  {
   "cell_type": "code",
   "execution_count": 61,
   "metadata": {},
   "outputs": [],
   "source": [
    "def get_affinity_result(flag, alias, one_hot, min_support=1e-4, max_len=2, use_colnames=True, metric='lift', min_threshold=0):\n",
    "    \"\"\"This function returns the affinity result of segment of a feature for another feature\n",
    "    \n",
    "    Signature: get_affinity_result(ind1, alias, one_hot, ind2=merged_df.index, min_support=1e-4, max_len=2, use_colnames=True, \n",
    "                        metric='lift', min_threshold=0)\n",
    "                        \n",
    "    Args:\n",
    "        flag: a pandas index object with boolean values flagging if an index is that of the segment of the feature we which to \n",
    "        do affinity test for.\n",
    "        \n",
    "        alias: (string); the alias of the the feature segment we which to use.\n",
    "        \n",
    "        one_hot: a onehot pandas dataframe we which to calculate the affinity of the segment of the feature with. This \n",
    "        dataframe should be as required by frequent_patterns.apriori function of python's mlxtend package.\n",
    "        \n",
    "        min_support, max_len, and use_colnames are same as those of frequent_patterns.apriori function of python's mlxtend \n",
    "        package.\n",
    "        \n",
    "        metric and min_threshold are same of those of frequent_patterns.association_rules of python's mlxtend package.\n",
    "        \n",
    "    Return: a pandas dataframe showing the affinity result where our test column (alias) is the antecendent.\n",
    "    \n",
    "    \"\"\"\n",
    "    \n",
    "    \n",
    "    one_hot_copy = one_hot.copy() # making a copy of one_hot so as not to mutate it\n",
    "    one_hot_copy[alias] = flag # flagging if an order was made by a our test column (alias) customer\n",
    "    \n",
    "    # using apriori to reduce the itemsets\n",
    "    itemsets = frequent_patterns.apriori(one_hot_copy, min_support=min_support, max_len=max_len, use_colnames=use_colnames)\n",
    "    \n",
    "    # computing the association rules\n",
    "    rules = frequent_patterns.association_rules(itemsets, metric=metric, min_threshold=min_threshold)\n",
    "    \n",
    "    # selecing rules where our test column (alias) is the antecendent\n",
    "    alias_rules = rules[rules['antecedents'] == frozenset({alias})].sort_values(metric, ascending=False)\n",
    "    \n",
    "    return alias_rules"
   ]
  },
  {
   "cell_type": "markdown",
   "metadata": {},
   "source": [
    "### Budget Older Families Brand Affinity"
   ]
  },
  {
   "cell_type": "code",
   "execution_count": 62,
   "metadata": {},
   "outputs": [
    {
     "data": {
      "text/html": [
       "<div>\n",
       "<style scoped>\n",
       "    .dataframe tbody tr th:only-of-type {\n",
       "        vertical-align: middle;\n",
       "    }\n",
       "\n",
       "    .dataframe tbody tr th {\n",
       "        vertical-align: top;\n",
       "    }\n",
       "\n",
       "    .dataframe thead th {\n",
       "        text-align: right;\n",
       "    }\n",
       "</style>\n",
       "<table border=\"1\" class=\"dataframe\">\n",
       "  <thead>\n",
       "    <tr style=\"text-align: right;\">\n",
       "      <th></th>\n",
       "      <th>antecedents</th>\n",
       "      <th>consequents</th>\n",
       "      <th>antecedent support</th>\n",
       "      <th>consequent support</th>\n",
       "      <th>support</th>\n",
       "      <th>confidence</th>\n",
       "      <th>lift</th>\n",
       "      <th>leverage</th>\n",
       "      <th>conviction</th>\n",
       "    </tr>\n",
       "  </thead>\n",
       "  <tbody>\n",
       "    <tr>\n",
       "      <th>25</th>\n",
       "      <td>(B_OLD)</td>\n",
       "      <td>(RRD)</td>\n",
       "      <td>0.087193</td>\n",
       "      <td>0.066147</td>\n",
       "      <td>0.006922</td>\n",
       "      <td>0.079390</td>\n",
       "      <td>1.200216</td>\n",
       "      <td>0.001155</td>\n",
       "      <td>1.014386</td>\n",
       "    </tr>\n",
       "    <tr>\n",
       "      <th>40</th>\n",
       "      <td>(B_OLD)</td>\n",
       "      <td>(Woolworths)</td>\n",
       "      <td>0.087193</td>\n",
       "      <td>0.006144</td>\n",
       "      <td>0.000632</td>\n",
       "      <td>0.007251</td>\n",
       "      <td>1.180168</td>\n",
       "      <td>0.000097</td>\n",
       "      <td>1.001115</td>\n",
       "    </tr>\n",
       "    <tr>\n",
       "      <th>38</th>\n",
       "      <td>(B_OLD)</td>\n",
       "      <td>(WW)</td>\n",
       "      <td>0.087193</td>\n",
       "      <td>0.041825</td>\n",
       "      <td>0.004284</td>\n",
       "      <td>0.049131</td>\n",
       "      <td>1.174664</td>\n",
       "      <td>0.000637</td>\n",
       "      <td>1.007683</td>\n",
       "    </tr>\n",
       "    <tr>\n",
       "      <th>0</th>\n",
       "      <td>(B_OLD)</td>\n",
       "      <td>(Burger)</td>\n",
       "      <td>0.087193</td>\n",
       "      <td>0.006339</td>\n",
       "      <td>0.000644</td>\n",
       "      <td>0.007391</td>\n",
       "      <td>1.165947</td>\n",
       "      <td>0.000092</td>\n",
       "      <td>1.001060</td>\n",
       "    </tr>\n",
       "    <tr>\n",
       "      <th>28</th>\n",
       "      <td>(B_OLD)</td>\n",
       "      <td>(Snbts)</td>\n",
       "      <td>0.087193</td>\n",
       "      <td>0.012191</td>\n",
       "      <td>0.001236</td>\n",
       "      <td>0.014177</td>\n",
       "      <td>1.162895</td>\n",
       "      <td>0.000173</td>\n",
       "      <td>1.002014</td>\n",
       "    </tr>\n",
       "    <tr>\n",
       "      <th>13</th>\n",
       "      <td>(B_OLD)</td>\n",
       "      <td>(French)</td>\n",
       "      <td>0.087193</td>\n",
       "      <td>0.005747</td>\n",
       "      <td>0.000576</td>\n",
       "      <td>0.006600</td>\n",
       "      <td>1.148499</td>\n",
       "      <td>0.000074</td>\n",
       "      <td>1.000859</td>\n",
       "    </tr>\n",
       "    <tr>\n",
       "      <th>20</th>\n",
       "      <td>(B_OLD)</td>\n",
       "      <td>(NCC)</td>\n",
       "      <td>0.087193</td>\n",
       "      <td>0.030271</td>\n",
       "      <td>0.003003</td>\n",
       "      <td>0.034443</td>\n",
       "      <td>1.137822</td>\n",
       "      <td>0.000364</td>\n",
       "      <td>1.004321</td>\n",
       "    </tr>\n",
       "    <tr>\n",
       "      <th>2</th>\n",
       "      <td>(B_OLD)</td>\n",
       "      <td>(CCs)</td>\n",
       "      <td>0.087193</td>\n",
       "      <td>0.018445</td>\n",
       "      <td>0.001828</td>\n",
       "      <td>0.020963</td>\n",
       "      <td>1.136549</td>\n",
       "      <td>0.000220</td>\n",
       "      <td>1.002573</td>\n",
       "    </tr>\n",
       "    <tr>\n",
       "      <th>26</th>\n",
       "      <td>(B_OLD)</td>\n",
       "      <td>(Smiths)</td>\n",
       "      <td>0.087193</td>\n",
       "      <td>0.123016</td>\n",
       "      <td>0.011948</td>\n",
       "      <td>0.137027</td>\n",
       "      <td>1.113895</td>\n",
       "      <td>0.001222</td>\n",
       "      <td>1.016236</td>\n",
       "    </tr>\n",
       "    <tr>\n",
       "      <th>5</th>\n",
       "      <td>(B_OLD)</td>\n",
       "      <td>(Cheetos)</td>\n",
       "      <td>0.087193</td>\n",
       "      <td>0.011863</td>\n",
       "      <td>0.001139</td>\n",
       "      <td>0.013061</td>\n",
       "      <td>1.101037</td>\n",
       "      <td>0.000105</td>\n",
       "      <td>1.001214</td>\n",
       "    </tr>\n",
       "    <tr>\n",
       "      <th>7</th>\n",
       "      <td>(B_OLD)</td>\n",
       "      <td>(Cheezels)</td>\n",
       "      <td>0.087193</td>\n",
       "      <td>0.018655</td>\n",
       "      <td>0.001731</td>\n",
       "      <td>0.019848</td>\n",
       "      <td>1.063911</td>\n",
       "      <td>0.000104</td>\n",
       "      <td>1.001216</td>\n",
       "    </tr>\n",
       "  </tbody>\n",
       "</table>\n",
       "</div>"
      ],
      "text/plain": [
       "   antecedents   consequents  antecedent support  consequent support  \\\n",
       "25     (B_OLD)         (RRD)            0.087193            0.066147   \n",
       "40     (B_OLD)  (Woolworths)            0.087193            0.006144   \n",
       "38     (B_OLD)          (WW)            0.087193            0.041825   \n",
       "0      (B_OLD)      (Burger)            0.087193            0.006339   \n",
       "28     (B_OLD)       (Snbts)            0.087193            0.012191   \n",
       "13     (B_OLD)      (French)            0.087193            0.005747   \n",
       "20     (B_OLD)         (NCC)            0.087193            0.030271   \n",
       "2      (B_OLD)         (CCs)            0.087193            0.018445   \n",
       "26     (B_OLD)      (Smiths)            0.087193            0.123016   \n",
       "5      (B_OLD)     (Cheetos)            0.087193            0.011863   \n",
       "7      (B_OLD)    (Cheezels)            0.087193            0.018655   \n",
       "\n",
       "     support  confidence      lift  leverage  conviction  \n",
       "25  0.006922    0.079390  1.200216  0.001155    1.014386  \n",
       "40  0.000632    0.007251  1.180168  0.000097    1.001115  \n",
       "38  0.004284    0.049131  1.174664  0.000637    1.007683  \n",
       "0   0.000644    0.007391  1.165947  0.000092    1.001060  \n",
       "28  0.001236    0.014177  1.162895  0.000173    1.002014  \n",
       "13  0.000576    0.006600  1.148499  0.000074    1.000859  \n",
       "20  0.003003    0.034443  1.137822  0.000364    1.004321  \n",
       "2   0.001828    0.020963  1.136549  0.000220    1.002573  \n",
       "26  0.011948    0.137027  1.113895  0.001222    1.016236  \n",
       "5   0.001139    0.013061  1.101037  0.000105    1.001214  \n",
       "7   0.001731    0.019848  1.063911  0.000104    1.001216  "
      ]
     },
     "execution_count": 62,
     "metadata": {},
     "output_type": "execute_result"
    }
   ],
   "source": [
    "budget_older_brand_affinity = get_affinity_result(merged_df.index.isin(budget_older.index), 'B_OLD', brand_name_onehot)\n",
    "\n",
    "# return rules where lift > 1 (these show if there is an affinity that is better than random guess)\n",
    "budget_older_brand_affinity[budget_older_brand_affinity['lift'] > 1]"
   ]
  },
  {
   "cell_type": "markdown",
   "metadata": {},
   "source": [
    "### From the rules above, we see that Budget-Older Families customers' highest brand affinity seems to be for the RRD brand."
   ]
  },
  {
   "cell_type": "markdown",
   "metadata": {},
   "source": [
    "### Mainstream Single/Young Couples Brand Affinity"
   ]
  },
  {
   "cell_type": "code",
   "execution_count": 63,
   "metadata": {},
   "outputs": [
    {
     "data": {
      "text/html": [
       "<div>\n",
       "<style scoped>\n",
       "    .dataframe tbody tr th:only-of-type {\n",
       "        vertical-align: middle;\n",
       "    }\n",
       "\n",
       "    .dataframe tbody tr th {\n",
       "        vertical-align: top;\n",
       "    }\n",
       "\n",
       "    .dataframe thead th {\n",
       "        text-align: right;\n",
       "    }\n",
       "</style>\n",
       "<table border=\"1\" class=\"dataframe\">\n",
       "  <thead>\n",
       "    <tr style=\"text-align: right;\">\n",
       "      <th></th>\n",
       "      <th>antecedents</th>\n",
       "      <th>consequents</th>\n",
       "      <th>antecedent support</th>\n",
       "      <th>consequent support</th>\n",
       "      <th>support</th>\n",
       "      <th>confidence</th>\n",
       "      <th>lift</th>\n",
       "      <th>leverage</th>\n",
       "      <th>conviction</th>\n",
       "    </tr>\n",
       "  </thead>\n",
       "  <tbody>\n",
       "    <tr>\n",
       "      <th>37</th>\n",
       "      <td>(M_YOUNG)</td>\n",
       "      <td>(Tyrrells)</td>\n",
       "      <td>0.079209</td>\n",
       "      <td>0.026108</td>\n",
       "      <td>0.002509</td>\n",
       "      <td>0.031672</td>\n",
       "      <td>1.213098</td>\n",
       "      <td>0.000441</td>\n",
       "      <td>1.005746</td>\n",
       "    </tr>\n",
       "    <tr>\n",
       "      <th>35</th>\n",
       "      <td>(M_YOUNG)</td>\n",
       "      <td>(Twisties)</td>\n",
       "      <td>0.079209</td>\n",
       "      <td>0.038316</td>\n",
       "      <td>0.003648</td>\n",
       "      <td>0.046050</td>\n",
       "      <td>1.201858</td>\n",
       "      <td>0.000613</td>\n",
       "      <td>1.008108</td>\n",
       "    </tr>\n",
       "    <tr>\n",
       "      <th>11</th>\n",
       "      <td>(M_YOUNG)</td>\n",
       "      <td>(Doritos)</td>\n",
       "      <td>0.079209</td>\n",
       "      <td>0.102229</td>\n",
       "      <td>0.009642</td>\n",
       "      <td>0.121725</td>\n",
       "      <td>1.190712</td>\n",
       "      <td>0.001544</td>\n",
       "      <td>1.022198</td>\n",
       "    </tr>\n",
       "    <tr>\n",
       "      <th>33</th>\n",
       "      <td>(M_YOUNG)</td>\n",
       "      <td>(Tostitos)</td>\n",
       "      <td>0.079209</td>\n",
       "      <td>0.038385</td>\n",
       "      <td>0.003607</td>\n",
       "      <td>0.045538</td>\n",
       "      <td>1.186370</td>\n",
       "      <td>0.000567</td>\n",
       "      <td>1.007495</td>\n",
       "    </tr>\n",
       "    <tr>\n",
       "      <th>19</th>\n",
       "      <td>(M_YOUNG)</td>\n",
       "      <td>(Kettle)</td>\n",
       "      <td>0.079209</td>\n",
       "      <td>0.167334</td>\n",
       "      <td>0.015579</td>\n",
       "      <td>0.196684</td>\n",
       "      <td>1.175400</td>\n",
       "      <td>0.002325</td>\n",
       "      <td>1.036537</td>\n",
       "    </tr>\n",
       "    <tr>\n",
       "      <th>23</th>\n",
       "      <td>(M_YOUNG)</td>\n",
       "      <td>(Pringles)</td>\n",
       "      <td>0.079209</td>\n",
       "      <td>0.101735</td>\n",
       "      <td>0.009382</td>\n",
       "      <td>0.118451</td>\n",
       "      <td>1.164310</td>\n",
       "      <td>0.001324</td>\n",
       "      <td>1.018962</td>\n",
       "    </tr>\n",
       "    <tr>\n",
       "      <th>9</th>\n",
       "      <td>(M_YOUNG)</td>\n",
       "      <td>(Cobs)</td>\n",
       "      <td>0.079209</td>\n",
       "      <td>0.039284</td>\n",
       "      <td>0.003502</td>\n",
       "      <td>0.044208</td>\n",
       "      <td>1.125335</td>\n",
       "      <td>0.000390</td>\n",
       "      <td>1.005151</td>\n",
       "    </tr>\n",
       "    <tr>\n",
       "      <th>16</th>\n",
       "      <td>(M_YOUNG)</td>\n",
       "      <td>(Infuzions)</td>\n",
       "      <td>0.079209</td>\n",
       "      <td>0.057555</td>\n",
       "      <td>0.005066</td>\n",
       "      <td>0.063958</td>\n",
       "      <td>1.111264</td>\n",
       "      <td>0.000507</td>\n",
       "      <td>1.006841</td>\n",
       "    </tr>\n",
       "    <tr>\n",
       "      <th>14</th>\n",
       "      <td>(M_YOUNG)</td>\n",
       "      <td>(GrnWves)</td>\n",
       "      <td>0.079209</td>\n",
       "      <td>0.031369</td>\n",
       "      <td>0.002618</td>\n",
       "      <td>0.033054</td>\n",
       "      <td>1.053702</td>\n",
       "      <td>0.000133</td>\n",
       "      <td>1.001742</td>\n",
       "    </tr>\n",
       "    <tr>\n",
       "      <th>31</th>\n",
       "      <td>(M_YOUNG)</td>\n",
       "      <td>(Thins)</td>\n",
       "      <td>0.079209</td>\n",
       "      <td>0.057044</td>\n",
       "      <td>0.004726</td>\n",
       "      <td>0.059660</td>\n",
       "      <td>1.045867</td>\n",
       "      <td>0.000207</td>\n",
       "      <td>1.002782</td>\n",
       "    </tr>\n",
       "  </tbody>\n",
       "</table>\n",
       "</div>"
      ],
      "text/plain": [
       "   antecedents  consequents  antecedent support  consequent support   support  \\\n",
       "37   (M_YOUNG)   (Tyrrells)            0.079209            0.026108  0.002509   \n",
       "35   (M_YOUNG)   (Twisties)            0.079209            0.038316  0.003648   \n",
       "11   (M_YOUNG)    (Doritos)            0.079209            0.102229  0.009642   \n",
       "33   (M_YOUNG)   (Tostitos)            0.079209            0.038385  0.003607   \n",
       "19   (M_YOUNG)     (Kettle)            0.079209            0.167334  0.015579   \n",
       "23   (M_YOUNG)   (Pringles)            0.079209            0.101735  0.009382   \n",
       "9    (M_YOUNG)       (Cobs)            0.079209            0.039284  0.003502   \n",
       "16   (M_YOUNG)  (Infuzions)            0.079209            0.057555  0.005066   \n",
       "14   (M_YOUNG)    (GrnWves)            0.079209            0.031369  0.002618   \n",
       "31   (M_YOUNG)      (Thins)            0.079209            0.057044  0.004726   \n",
       "\n",
       "    confidence      lift  leverage  conviction  \n",
       "37    0.031672  1.213098  0.000441    1.005746  \n",
       "35    0.046050  1.201858  0.000613    1.008108  \n",
       "11    0.121725  1.190712  0.001544    1.022198  \n",
       "33    0.045538  1.186370  0.000567    1.007495  \n",
       "19    0.196684  1.175400  0.002325    1.036537  \n",
       "23    0.118451  1.164310  0.001324    1.018962  \n",
       "9     0.044208  1.125335  0.000390    1.005151  \n",
       "16    0.063958  1.111264  0.000507    1.006841  \n",
       "14    0.033054  1.053702  0.000133    1.001742  \n",
       "31    0.059660  1.045867  0.000207    1.002782  "
      ]
     },
     "execution_count": 63,
     "metadata": {},
     "output_type": "execute_result"
    }
   ],
   "source": [
    "mainstream_young_brand_affinity = get_affinity_result(merged_df.index.isin(mainstream_young.index), 'M_YOUNG', \n",
    "                                                      brand_name_onehot)\n",
    "\n",
    "# return rules where lift > 1 (these show if there is an affinity that is better than random guess)\n",
    "mainstream_young_brand_affinity[mainstream_young_brand_affinity['lift'] > 1]"
   ]
  },
  {
   "cell_type": "markdown",
   "metadata": {},
   "source": [
    "### From the rules above, we see that Mainstream-Young Singles/Couples customers' highest brand affinity seems to be for the Tyrrells brand."
   ]
  },
  {
   "cell_type": "markdown",
   "metadata": {},
   "source": [
    "### Mainstream Retirees Brand Affinity"
   ]
  },
  {
   "cell_type": "code",
   "execution_count": 64,
   "metadata": {},
   "outputs": [
    {
     "data": {
      "text/html": [
       "<div>\n",
       "<style scoped>\n",
       "    .dataframe tbody tr th:only-of-type {\n",
       "        vertical-align: middle;\n",
       "    }\n",
       "\n",
       "    .dataframe tbody tr th {\n",
       "        vertical-align: top;\n",
       "    }\n",
       "\n",
       "    .dataframe thead th {\n",
       "        text-align: right;\n",
       "    }\n",
       "</style>\n",
       "<table border=\"1\" class=\"dataframe\">\n",
       "  <thead>\n",
       "    <tr style=\"text-align: right;\">\n",
       "      <th></th>\n",
       "      <th>antecedents</th>\n",
       "      <th>consequents</th>\n",
       "      <th>antecedent support</th>\n",
       "      <th>consequent support</th>\n",
       "      <th>support</th>\n",
       "      <th>confidence</th>\n",
       "      <th>lift</th>\n",
       "      <th>leverage</th>\n",
       "      <th>conviction</th>\n",
       "    </tr>\n",
       "  </thead>\n",
       "  <tbody>\n",
       "    <tr>\n",
       "      <th>14</th>\n",
       "      <td>(M_RETIREES)</td>\n",
       "      <td>(GrnWves)</td>\n",
       "      <td>0.080935</td>\n",
       "      <td>0.031369</td>\n",
       "      <td>0.002703</td>\n",
       "      <td>0.033400</td>\n",
       "      <td>1.064747</td>\n",
       "      <td>0.000164</td>\n",
       "      <td>1.002101</td>\n",
       "    </tr>\n",
       "    <tr>\n",
       "      <th>30</th>\n",
       "      <td>(M_RETIREES)</td>\n",
       "      <td>(Thins)</td>\n",
       "      <td>0.080935</td>\n",
       "      <td>0.057044</td>\n",
       "      <td>0.004859</td>\n",
       "      <td>0.060040</td>\n",
       "      <td>1.052525</td>\n",
       "      <td>0.000242</td>\n",
       "      <td>1.003188</td>\n",
       "    </tr>\n",
       "    <tr>\n",
       "      <th>34</th>\n",
       "      <td>(M_RETIREES)</td>\n",
       "      <td>(Twisties)</td>\n",
       "      <td>0.080935</td>\n",
       "      <td>0.038316</td>\n",
       "      <td>0.003250</td>\n",
       "      <td>0.040160</td>\n",
       "      <td>1.048142</td>\n",
       "      <td>0.000149</td>\n",
       "      <td>1.001922</td>\n",
       "    </tr>\n",
       "    <tr>\n",
       "      <th>23</th>\n",
       "      <td>(M_RETIREES)</td>\n",
       "      <td>(Pringles)</td>\n",
       "      <td>0.080935</td>\n",
       "      <td>0.101735</td>\n",
       "      <td>0.008523</td>\n",
       "      <td>0.105308</td>\n",
       "      <td>1.035124</td>\n",
       "      <td>0.000289</td>\n",
       "      <td>1.003994</td>\n",
       "    </tr>\n",
       "    <tr>\n",
       "      <th>16</th>\n",
       "      <td>(M_RETIREES)</td>\n",
       "      <td>(Infuzions)</td>\n",
       "      <td>0.080935</td>\n",
       "      <td>0.057555</td>\n",
       "      <td>0.004790</td>\n",
       "      <td>0.059189</td>\n",
       "      <td>1.028395</td>\n",
       "      <td>0.000132</td>\n",
       "      <td>1.001737</td>\n",
       "    </tr>\n",
       "    <tr>\n",
       "      <th>7</th>\n",
       "      <td>(M_RETIREES)</td>\n",
       "      <td>(Cheezels)</td>\n",
       "      <td>0.080935</td>\n",
       "      <td>0.018655</td>\n",
       "      <td>0.001548</td>\n",
       "      <td>0.019129</td>\n",
       "      <td>1.025378</td>\n",
       "      <td>0.000038</td>\n",
       "      <td>1.000483</td>\n",
       "    </tr>\n",
       "    <tr>\n",
       "      <th>10</th>\n",
       "      <td>(M_RETIREES)</td>\n",
       "      <td>(Doritos)</td>\n",
       "      <td>0.080935</td>\n",
       "      <td>0.102229</td>\n",
       "      <td>0.008466</td>\n",
       "      <td>0.104607</td>\n",
       "      <td>1.023260</td>\n",
       "      <td>0.000192</td>\n",
       "      <td>1.002656</td>\n",
       "    </tr>\n",
       "    <tr>\n",
       "      <th>18</th>\n",
       "      <td>(M_RETIREES)</td>\n",
       "      <td>(Kettle)</td>\n",
       "      <td>0.080935</td>\n",
       "      <td>0.167334</td>\n",
       "      <td>0.013723</td>\n",
       "      <td>0.169554</td>\n",
       "      <td>1.013269</td>\n",
       "      <td>0.000180</td>\n",
       "      <td>1.002674</td>\n",
       "    </tr>\n",
       "  </tbody>\n",
       "</table>\n",
       "</div>"
      ],
      "text/plain": [
       "     antecedents  consequents  antecedent support  consequent support  \\\n",
       "14  (M_RETIREES)    (GrnWves)            0.080935            0.031369   \n",
       "30  (M_RETIREES)      (Thins)            0.080935            0.057044   \n",
       "34  (M_RETIREES)   (Twisties)            0.080935            0.038316   \n",
       "23  (M_RETIREES)   (Pringles)            0.080935            0.101735   \n",
       "16  (M_RETIREES)  (Infuzions)            0.080935            0.057555   \n",
       "7   (M_RETIREES)   (Cheezels)            0.080935            0.018655   \n",
       "10  (M_RETIREES)    (Doritos)            0.080935            0.102229   \n",
       "18  (M_RETIREES)     (Kettle)            0.080935            0.167334   \n",
       "\n",
       "     support  confidence      lift  leverage  conviction  \n",
       "14  0.002703    0.033400  1.064747  0.000164    1.002101  \n",
       "30  0.004859    0.060040  1.052525  0.000242    1.003188  \n",
       "34  0.003250    0.040160  1.048142  0.000149    1.001922  \n",
       "23  0.008523    0.105308  1.035124  0.000289    1.003994  \n",
       "16  0.004790    0.059189  1.028395  0.000132    1.001737  \n",
       "7   0.001548    0.019129  1.025378  0.000038    1.000483  \n",
       "10  0.008466    0.104607  1.023260  0.000192    1.002656  \n",
       "18  0.013723    0.169554  1.013269  0.000180    1.002674  "
      ]
     },
     "execution_count": 64,
     "metadata": {},
     "output_type": "execute_result"
    }
   ],
   "source": [
    "mainstream_retirees_brand_affinity = get_affinity_result(merged_df.index.isin(mainstream_retirees.index), 'M_RETIREES', \n",
    "                                                      brand_name_onehot)\n",
    "\n",
    "# return rules where lift > 1 (these show if there is an affinity that is better than random guess)\n",
    "mainstream_retirees_brand_affinity[mainstream_retirees_brand_affinity['lift'] > 1]"
   ]
  },
  {
   "cell_type": "markdown",
   "metadata": {},
   "source": [
    "### From the rules above, we see that Mainstream Retirees customers' highest brand affinity seems to be for the GrnWves brand."
   ]
  },
  {
   "cell_type": "markdown",
   "metadata": {},
   "source": [
    "### Let's find out if these three customer segments tend to buy a particular pack size. We use same steps for brand affinity."
   ]
  },
  {
   "cell_type": "code",
   "execution_count": 65,
   "metadata": {},
   "outputs": [],
   "source": [
    "# one hot encoding of the pack sizes\n",
    "pack_size_onehot = merged_df.reset_index()[['index', 'PACK_SIZE']].pivot_table(index='index', columns='PACK_SIZE', aggfunc=len, \n",
    "                                                                      fill_value=0)\n",
    "\n",
    "assert (pack_size_onehot > 1).sum().sum() == 0\n",
    "\n",
    "pack_size_onehot = pack_size_onehot == 1 # converting the onehot encoding to boolean values"
   ]
  },
  {
   "cell_type": "markdown",
   "metadata": {},
   "source": [
    "### Budget Older Families Pack Size Affinity"
   ]
  },
  {
   "cell_type": "code",
   "execution_count": 66,
   "metadata": {},
   "outputs": [
    {
     "data": {
      "text/html": [
       "<div>\n",
       "<style scoped>\n",
       "    .dataframe tbody tr th:only-of-type {\n",
       "        vertical-align: middle;\n",
       "    }\n",
       "\n",
       "    .dataframe tbody tr th {\n",
       "        vertical-align: top;\n",
       "    }\n",
       "\n",
       "    .dataframe thead th {\n",
       "        text-align: right;\n",
       "    }\n",
       "</style>\n",
       "<table border=\"1\" class=\"dataframe\">\n",
       "  <thead>\n",
       "    <tr style=\"text-align: right;\">\n",
       "      <th></th>\n",
       "      <th>antecedents</th>\n",
       "      <th>consequents</th>\n",
       "      <th>antecedent support</th>\n",
       "      <th>consequent support</th>\n",
       "      <th>support</th>\n",
       "      <th>confidence</th>\n",
       "      <th>lift</th>\n",
       "      <th>leverage</th>\n",
       "      <th>conviction</th>\n",
       "    </tr>\n",
       "  </thead>\n",
       "  <tbody>\n",
       "    <tr>\n",
       "      <th>22</th>\n",
       "      <td>(B_OLD)</td>\n",
       "      <td>(180)</td>\n",
       "      <td>0.087193</td>\n",
       "      <td>0.005950</td>\n",
       "      <td>0.000673</td>\n",
       "      <td>0.007716</td>\n",
       "      <td>1.296882</td>\n",
       "      <td>0.000154</td>\n",
       "      <td>1.001780</td>\n",
       "    </tr>\n",
       "    <tr>\n",
       "      <th>6</th>\n",
       "      <td>(B_OLD)</td>\n",
       "      <td>(125)</td>\n",
       "      <td>0.087193</td>\n",
       "      <td>0.005893</td>\n",
       "      <td>0.000616</td>\n",
       "      <td>0.007065</td>\n",
       "      <td>1.198940</td>\n",
       "      <td>0.000102</td>\n",
       "      <td>1.001181</td>\n",
       "    </tr>\n",
       "    <tr>\n",
       "      <th>24</th>\n",
       "      <td>(B_OLD)</td>\n",
       "      <td>(190)</td>\n",
       "      <td>0.087193</td>\n",
       "      <td>0.012138</td>\n",
       "      <td>0.001264</td>\n",
       "      <td>0.014502</td>\n",
       "      <td>1.194748</td>\n",
       "      <td>0.000206</td>\n",
       "      <td>1.002399</td>\n",
       "    </tr>\n",
       "    <tr>\n",
       "      <th>15</th>\n",
       "      <td>(B_OLD)</td>\n",
       "      <td>(160)</td>\n",
       "      <td>0.087193</td>\n",
       "      <td>0.012037</td>\n",
       "      <td>0.001240</td>\n",
       "      <td>0.014223</td>\n",
       "      <td>1.181635</td>\n",
       "      <td>0.000191</td>\n",
       "      <td>1.002218</td>\n",
       "    </tr>\n",
       "    <tr>\n",
       "      <th>30</th>\n",
       "      <td>(B_OLD)</td>\n",
       "      <td>(220)</td>\n",
       "      <td>0.087193</td>\n",
       "      <td>0.006339</td>\n",
       "      <td>0.000644</td>\n",
       "      <td>0.007391</td>\n",
       "      <td>1.165947</td>\n",
       "      <td>0.000092</td>\n",
       "      <td>1.001060</td>\n",
       "    </tr>\n",
       "    <tr>\n",
       "      <th>3</th>\n",
       "      <td>(B_OLD)</td>\n",
       "      <td>(90)</td>\n",
       "      <td>0.087193</td>\n",
       "      <td>0.012191</td>\n",
       "      <td>0.001236</td>\n",
       "      <td>0.014177</td>\n",
       "      <td>1.162895</td>\n",
       "      <td>0.000173</td>\n",
       "      <td>1.002014</td>\n",
       "    </tr>\n",
       "    <tr>\n",
       "      <th>27</th>\n",
       "      <td>(B_OLD)</td>\n",
       "      <td>(200)</td>\n",
       "      <td>0.087193</td>\n",
       "      <td>0.018128</td>\n",
       "      <td>0.001816</td>\n",
       "      <td>0.020824</td>\n",
       "      <td>1.148676</td>\n",
       "      <td>0.000235</td>\n",
       "      <td>1.002753</td>\n",
       "    </tr>\n",
       "    <tr>\n",
       "      <th>0</th>\n",
       "      <td>(B_OLD)</td>\n",
       "      <td>(70)</td>\n",
       "      <td>0.087193</td>\n",
       "      <td>0.006108</td>\n",
       "      <td>0.000576</td>\n",
       "      <td>0.006600</td>\n",
       "      <td>1.080671</td>\n",
       "      <td>0.000043</td>\n",
       "      <td>1.000496</td>\n",
       "    </tr>\n",
       "    <tr>\n",
       "      <th>19</th>\n",
       "      <td>(B_OLD)</td>\n",
       "      <td>(170)</td>\n",
       "      <td>0.087193</td>\n",
       "      <td>0.080988</td>\n",
       "      <td>0.007238</td>\n",
       "      <td>0.083016</td>\n",
       "      <td>1.025036</td>\n",
       "      <td>0.000177</td>\n",
       "      <td>1.002211</td>\n",
       "    </tr>\n",
       "    <tr>\n",
       "      <th>12</th>\n",
       "      <td>(B_OLD)</td>\n",
       "      <td>(150)</td>\n",
       "      <td>0.087193</td>\n",
       "      <td>0.162937</td>\n",
       "      <td>0.014542</td>\n",
       "      <td>0.166775</td>\n",
       "      <td>1.023558</td>\n",
       "      <td>0.000335</td>\n",
       "      <td>1.004607</td>\n",
       "    </tr>\n",
       "    <tr>\n",
       "      <th>16</th>\n",
       "      <td>(B_OLD)</td>\n",
       "      <td>(165)</td>\n",
       "      <td>0.087193</td>\n",
       "      <td>0.061996</td>\n",
       "      <td>0.005504</td>\n",
       "      <td>0.063122</td>\n",
       "      <td>1.018150</td>\n",
       "      <td>0.000098</td>\n",
       "      <td>1.001201</td>\n",
       "    </tr>\n",
       "    <tr>\n",
       "      <th>33</th>\n",
       "      <td>(B_OLD)</td>\n",
       "      <td>(250)</td>\n",
       "      <td>0.087193</td>\n",
       "      <td>0.012843</td>\n",
       "      <td>0.001127</td>\n",
       "      <td>0.012922</td>\n",
       "      <td>1.006100</td>\n",
       "      <td>0.000007</td>\n",
       "      <td>1.000079</td>\n",
       "    </tr>\n",
       "    <tr>\n",
       "      <th>20</th>\n",
       "      <td>(B_OLD)</td>\n",
       "      <td>(175)</td>\n",
       "      <td>0.087193</td>\n",
       "      <td>0.269069</td>\n",
       "      <td>0.023539</td>\n",
       "      <td>0.269964</td>\n",
       "      <td>1.003327</td>\n",
       "      <td>0.000078</td>\n",
       "      <td>1.001226</td>\n",
       "    </tr>\n",
       "  </tbody>\n",
       "</table>\n",
       "</div>"
      ],
      "text/plain": [
       "   antecedents consequents  antecedent support  consequent support   support  \\\n",
       "22     (B_OLD)       (180)            0.087193            0.005950  0.000673   \n",
       "6      (B_OLD)       (125)            0.087193            0.005893  0.000616   \n",
       "24     (B_OLD)       (190)            0.087193            0.012138  0.001264   \n",
       "15     (B_OLD)       (160)            0.087193            0.012037  0.001240   \n",
       "30     (B_OLD)       (220)            0.087193            0.006339  0.000644   \n",
       "3      (B_OLD)        (90)            0.087193            0.012191  0.001236   \n",
       "27     (B_OLD)       (200)            0.087193            0.018128  0.001816   \n",
       "0      (B_OLD)        (70)            0.087193            0.006108  0.000576   \n",
       "19     (B_OLD)       (170)            0.087193            0.080988  0.007238   \n",
       "12     (B_OLD)       (150)            0.087193            0.162937  0.014542   \n",
       "16     (B_OLD)       (165)            0.087193            0.061996  0.005504   \n",
       "33     (B_OLD)       (250)            0.087193            0.012843  0.001127   \n",
       "20     (B_OLD)       (175)            0.087193            0.269069  0.023539   \n",
       "\n",
       "    confidence      lift  leverage  conviction  \n",
       "22    0.007716  1.296882  0.000154    1.001780  \n",
       "6     0.007065  1.198940  0.000102    1.001181  \n",
       "24    0.014502  1.194748  0.000206    1.002399  \n",
       "15    0.014223  1.181635  0.000191    1.002218  \n",
       "30    0.007391  1.165947  0.000092    1.001060  \n",
       "3     0.014177  1.162895  0.000173    1.002014  \n",
       "27    0.020824  1.148676  0.000235    1.002753  \n",
       "0     0.006600  1.080671  0.000043    1.000496  \n",
       "19    0.083016  1.025036  0.000177    1.002211  \n",
       "12    0.166775  1.023558  0.000335    1.004607  \n",
       "16    0.063122  1.018150  0.000098    1.001201  \n",
       "33    0.012922  1.006100  0.000007    1.000079  \n",
       "20    0.269964  1.003327  0.000078    1.001226  "
      ]
     },
     "execution_count": 66,
     "metadata": {},
     "output_type": "execute_result"
    }
   ],
   "source": [
    "budget_older_pack_affinity = get_affinity_result(merged_df.index.isin(budget_older.index), 'B_OLD', pack_size_onehot)\n",
    "\n",
    "# return rules where lift > 1 (these show if there is an affinity that is better than random guess)\n",
    "budget_older_pack_affinity[budget_older_pack_affinity['lift'] > 1]"
   ]
  },
  {
   "cell_type": "markdown",
   "metadata": {},
   "source": [
    "### From the rules above, we see that Budget OlderFamilies customers' highest pack size affinity seems to be for 180g. Let's check which brand has this pack size. "
   ]
  },
  {
   "cell_type": "code",
   "execution_count": 67,
   "metadata": {},
   "outputs": [
    {
     "data": {
      "text/plain": [
       "array(['GrnWves'], dtype=object)"
      ]
     },
     "execution_count": 67,
     "metadata": {},
     "output_type": "execute_result"
    }
   ],
   "source": [
    "merged_df[merged_df['PACK_SIZE'] == 180]['BRAND_NAME'].unique()"
   ]
  },
  {
   "cell_type": "markdown",
   "metadata": {},
   "source": [
    "### Since they have affinity for RRD brand, let's check the avaliable pack size for this brand. "
   ]
  },
  {
   "cell_type": "code",
   "execution_count": 68,
   "metadata": {},
   "outputs": [
    {
     "data": {
      "text/plain": [
       "array([150, 165], dtype=int64)"
      ]
     },
     "execution_count": 68,
     "metadata": {},
     "output_type": "execute_result"
    }
   ],
   "source": [
    "merged_df[merged_df['BRAND_NAME'] == 'RRD']['PACK_SIZE'].unique()"
   ]
  },
  {
   "cell_type": "markdown",
   "metadata": {},
   "source": [
    "### This explains why RRD's pack size wasn't the most desired by Budget Older Families customers. It is because the brand has more than one pack size available and the customers choice was divided by these pack sizes. Overall. Budget Older Families have affinity for moderate pack size."
   ]
  },
  {
   "cell_type": "markdown",
   "metadata": {},
   "source": [
    "### Mainstream Single/Young Couples Pack size Affinity"
   ]
  },
  {
   "cell_type": "code",
   "execution_count": 69,
   "metadata": {},
   "outputs": [
    {
     "data": {
      "text/html": [
       "<div>\n",
       "<style scoped>\n",
       "    .dataframe tbody tr th:only-of-type {\n",
       "        vertical-align: middle;\n",
       "    }\n",
       "\n",
       "    .dataframe tbody tr th {\n",
       "        vertical-align: top;\n",
       "    }\n",
       "\n",
       "    .dataframe thead th {\n",
       "        text-align: right;\n",
       "    }\n",
       "</style>\n",
       "<table border=\"1\" class=\"dataframe\">\n",
       "  <thead>\n",
       "    <tr style=\"text-align: right;\">\n",
       "      <th></th>\n",
       "      <th>antecedents</th>\n",
       "      <th>consequents</th>\n",
       "      <th>antecedent support</th>\n",
       "      <th>consequent support</th>\n",
       "      <th>support</th>\n",
       "      <th>confidence</th>\n",
       "      <th>lift</th>\n",
       "      <th>leverage</th>\n",
       "      <th>conviction</th>\n",
       "    </tr>\n",
       "  </thead>\n",
       "  <tbody>\n",
       "    <tr>\n",
       "      <th>34</th>\n",
       "      <td>(M_YOUNG)</td>\n",
       "      <td>(270)</td>\n",
       "      <td>0.079209</td>\n",
       "      <td>0.025472</td>\n",
       "      <td>0.002513</td>\n",
       "      <td>0.031723</td>\n",
       "      <td>1.245410</td>\n",
       "      <td>0.000495</td>\n",
       "      <td>1.006456</td>\n",
       "    </tr>\n",
       "    <tr>\n",
       "      <th>39</th>\n",
       "      <td>(M_YOUNG)</td>\n",
       "      <td>(380)</td>\n",
       "      <td>0.079209</td>\n",
       "      <td>0.026003</td>\n",
       "      <td>0.002537</td>\n",
       "      <td>0.032030</td>\n",
       "      <td>1.231788</td>\n",
       "      <td>0.000477</td>\n",
       "      <td>1.006227</td>\n",
       "    </tr>\n",
       "    <tr>\n",
       "      <th>37</th>\n",
       "      <td>(M_YOUNG)</td>\n",
       "      <td>(330)</td>\n",
       "      <td>0.079209</td>\n",
       "      <td>0.050823</td>\n",
       "      <td>0.004843</td>\n",
       "      <td>0.061144</td>\n",
       "      <td>1.203085</td>\n",
       "      <td>0.000818</td>\n",
       "      <td>1.010994</td>\n",
       "    </tr>\n",
       "    <tr>\n",
       "      <th>8</th>\n",
       "      <td>(M_YOUNG)</td>\n",
       "      <td>(134)</td>\n",
       "      <td>0.079209</td>\n",
       "      <td>0.101735</td>\n",
       "      <td>0.009382</td>\n",
       "      <td>0.118451</td>\n",
       "      <td>1.164310</td>\n",
       "      <td>0.001324</td>\n",
       "      <td>1.018962</td>\n",
       "    </tr>\n",
       "    <tr>\n",
       "      <th>29</th>\n",
       "      <td>(M_YOUNG)</td>\n",
       "      <td>(210)</td>\n",
       "      <td>0.079209</td>\n",
       "      <td>0.025419</td>\n",
       "      <td>0.002334</td>\n",
       "      <td>0.029472</td>\n",
       "      <td>1.159425</td>\n",
       "      <td>0.000321</td>\n",
       "      <td>1.004176</td>\n",
       "    </tr>\n",
       "    <tr>\n",
       "      <th>4</th>\n",
       "      <td>(M_YOUNG)</td>\n",
       "      <td>(110)</td>\n",
       "      <td>0.079209</td>\n",
       "      <td>0.090731</td>\n",
       "      <td>0.008312</td>\n",
       "      <td>0.104943</td>\n",
       "      <td>1.156634</td>\n",
       "      <td>0.001126</td>\n",
       "      <td>1.015878</td>\n",
       "    </tr>\n",
       "    <tr>\n",
       "      <th>10</th>\n",
       "      <td>(M_YOUNG)</td>\n",
       "      <td>(135)</td>\n",
       "      <td>0.079209</td>\n",
       "      <td>0.013200</td>\n",
       "      <td>0.001175</td>\n",
       "      <td>0.014838</td>\n",
       "      <td>1.124104</td>\n",
       "      <td>0.000130</td>\n",
       "      <td>1.001663</td>\n",
       "    </tr>\n",
       "    <tr>\n",
       "      <th>33</th>\n",
       "      <td>(M_YOUNG)</td>\n",
       "      <td>(250)</td>\n",
       "      <td>0.079209</td>\n",
       "      <td>0.012843</td>\n",
       "      <td>0.001135</td>\n",
       "      <td>0.014327</td>\n",
       "      <td>1.115480</td>\n",
       "      <td>0.000117</td>\n",
       "      <td>1.001505</td>\n",
       "    </tr>\n",
       "  </tbody>\n",
       "</table>\n",
       "</div>"
      ],
      "text/plain": [
       "   antecedents consequents  antecedent support  consequent support   support  \\\n",
       "34   (M_YOUNG)       (270)            0.079209            0.025472  0.002513   \n",
       "39   (M_YOUNG)       (380)            0.079209            0.026003  0.002537   \n",
       "37   (M_YOUNG)       (330)            0.079209            0.050823  0.004843   \n",
       "8    (M_YOUNG)       (134)            0.079209            0.101735  0.009382   \n",
       "29   (M_YOUNG)       (210)            0.079209            0.025419  0.002334   \n",
       "4    (M_YOUNG)       (110)            0.079209            0.090731  0.008312   \n",
       "10   (M_YOUNG)       (135)            0.079209            0.013200  0.001175   \n",
       "33   (M_YOUNG)       (250)            0.079209            0.012843  0.001135   \n",
       "\n",
       "    confidence      lift  leverage  conviction  \n",
       "34    0.031723  1.245410  0.000495    1.006456  \n",
       "39    0.032030  1.231788  0.000477    1.006227  \n",
       "37    0.061144  1.203085  0.000818    1.010994  \n",
       "8     0.118451  1.164310  0.001324    1.018962  \n",
       "29    0.029472  1.159425  0.000321    1.004176  \n",
       "4     0.104943  1.156634  0.001126    1.015878  \n",
       "10    0.014838  1.124104  0.000130    1.001663  \n",
       "33    0.014327  1.115480  0.000117    1.001505  "
      ]
     },
     "execution_count": 69,
     "metadata": {},
     "output_type": "execute_result"
    }
   ],
   "source": [
    "mainstream_young_pack_affinity = get_affinity_result(merged_df.index.isin(mainstream_young.index), 'M_YOUNG', \n",
    "                                                      pack_size_onehot)\n",
    "\n",
    "# return rules where lift > 1 (these show if there is an affinity that is better than random guess)\n",
    "mainstream_young_pack_affinity[mainstream_young_pack_affinity['lift'] > 1]"
   ]
  },
  {
   "cell_type": "markdown",
   "metadata": {},
   "source": [
    "### From the rules above, we see that Mainstream - Young Singles/Couples customers' highest pack size affinity seems to be for 270g. Let's check which brand has this pack size."
   ]
  },
  {
   "cell_type": "code",
   "execution_count": 70,
   "metadata": {},
   "outputs": [
    {
     "data": {
      "text/plain": [
       "array(['Twisties'], dtype=object)"
      ]
     },
     "execution_count": 70,
     "metadata": {},
     "output_type": "execute_result"
    }
   ],
   "source": [
    "merged_df[merged_df['PACK_SIZE'] == 270]['BRAND_NAME'].unique()"
   ]
  },
  {
   "cell_type": "markdown",
   "metadata": {},
   "source": [
    "### Since they have affinity for Tyrrells brand, let's check the avaliable pack size for this brand. "
   ]
  },
  {
   "cell_type": "code",
   "execution_count": 71,
   "metadata": {},
   "outputs": [
    {
     "data": {
      "text/plain": [
       "array([165], dtype=int64)"
      ]
     },
     "execution_count": 71,
     "metadata": {},
     "output_type": "execute_result"
    }
   ],
   "source": [
    "merged_df[merged_df['BRAND_NAME'] == 'Tyrrells']['PACK_SIZE'].unique()"
   ]
  },
  {
   "cell_type": "markdown",
   "metadata": {},
   "source": [
    "### Let's check if other brands share the same pack size (165g) with Tyrrells."
   ]
  },
  {
   "cell_type": "code",
   "execution_count": 72,
   "metadata": {},
   "outputs": [
    {
     "data": {
      "text/plain": [
       "array(['Tyrrells', 'Cheetos', 'RRD'], dtype=object)"
      ]
     },
     "execution_count": 72,
     "metadata": {},
     "output_type": "execute_result"
    }
   ],
   "source": [
    "merged_df[merged_df['PACK_SIZE'] == 165]['BRAND_NAME'].unique()"
   ]
  },
  {
   "cell_type": "markdown",
   "metadata": {},
   "source": [
    "### Let's check the support of these other brands with Mainstream Young Singles / Couples customers."
   ]
  },
  {
   "cell_type": "code",
   "execution_count": 73,
   "metadata": {},
   "outputs": [
    {
     "data": {
      "text/html": [
       "<div>\n",
       "<style scoped>\n",
       "    .dataframe tbody tr th:only-of-type {\n",
       "        vertical-align: middle;\n",
       "    }\n",
       "\n",
       "    .dataframe tbody tr th {\n",
       "        vertical-align: top;\n",
       "    }\n",
       "\n",
       "    .dataframe thead th {\n",
       "        text-align: right;\n",
       "    }\n",
       "</style>\n",
       "<table border=\"1\" class=\"dataframe\">\n",
       "  <thead>\n",
       "    <tr style=\"text-align: right;\">\n",
       "      <th></th>\n",
       "      <th>antecedents</th>\n",
       "      <th>consequents</th>\n",
       "      <th>antecedent support</th>\n",
       "      <th>consequent support</th>\n",
       "      <th>support</th>\n",
       "      <th>confidence</th>\n",
       "      <th>lift</th>\n",
       "      <th>leverage</th>\n",
       "      <th>conviction</th>\n",
       "    </tr>\n",
       "  </thead>\n",
       "  <tbody>\n",
       "    <tr>\n",
       "      <th>5</th>\n",
       "      <td>(M_YOUNG)</td>\n",
       "      <td>(Cheetos)</td>\n",
       "      <td>0.079209</td>\n",
       "      <td>0.011863</td>\n",
       "      <td>0.000673</td>\n",
       "      <td>0.008494</td>\n",
       "      <td>0.715997</td>\n",
       "      <td>-0.000267</td>\n",
       "      <td>0.996602</td>\n",
       "    </tr>\n",
       "    <tr>\n",
       "      <th>25</th>\n",
       "      <td>(M_YOUNG)</td>\n",
       "      <td>(RRD)</td>\n",
       "      <td>0.079209</td>\n",
       "      <td>0.066147</td>\n",
       "      <td>0.003546</td>\n",
       "      <td>0.044771</td>\n",
       "      <td>0.676842</td>\n",
       "      <td>-0.001693</td>\n",
       "      <td>0.977622</td>\n",
       "    </tr>\n",
       "  </tbody>\n",
       "</table>\n",
       "</div>"
      ],
      "text/plain": [
       "   antecedents consequents  antecedent support  consequent support   support  \\\n",
       "5    (M_YOUNG)   (Cheetos)            0.079209            0.011863  0.000673   \n",
       "25   (M_YOUNG)       (RRD)            0.079209            0.066147  0.003546   \n",
       "\n",
       "    confidence      lift  leverage  conviction  \n",
       "5     0.008494  0.715997 -0.000267    0.996602  \n",
       "25    0.044771  0.676842 -0.001693    0.977622  "
      ]
     },
     "execution_count": 73,
     "metadata": {},
     "output_type": "execute_result"
    }
   ],
   "source": [
    "mainstream_young_brand_affinity[(mainstream_young_brand_affinity['consequents'] == frozenset({'Cheetos'}))\n",
    "                                   | \n",
    "                                   (mainstream_young_brand_affinity['consequents'] == frozenset({'RRD'}))\n",
    "                                  ]"
   ]
  },
  {
   "cell_type": "markdown",
   "metadata": {},
   "source": [
    "### As we can see, the supports of these two brands are very small. This maybe the culprit why the affinity lift for 165g is small."
   ]
  },
  {
   "cell_type": "markdown",
   "metadata": {},
   "source": [
    "### Mainstream Retirees Brand Affinity"
   ]
  },
  {
   "cell_type": "code",
   "execution_count": 74,
   "metadata": {},
   "outputs": [
    {
     "data": {
      "text/html": [
       "<div>\n",
       "<style scoped>\n",
       "    .dataframe tbody tr th:only-of-type {\n",
       "        vertical-align: middle;\n",
       "    }\n",
       "\n",
       "    .dataframe tbody tr th {\n",
       "        vertical-align: top;\n",
       "    }\n",
       "\n",
       "    .dataframe thead th {\n",
       "        text-align: right;\n",
       "    }\n",
       "</style>\n",
       "<table border=\"1\" class=\"dataframe\">\n",
       "  <thead>\n",
       "    <tr style=\"text-align: right;\">\n",
       "      <th></th>\n",
       "      <th>antecedents</th>\n",
       "      <th>consequents</th>\n",
       "      <th>antecedent support</th>\n",
       "      <th>consequent support</th>\n",
       "      <th>support</th>\n",
       "      <th>confidence</th>\n",
       "      <th>lift</th>\n",
       "      <th>leverage</th>\n",
       "      <th>conviction</th>\n",
       "    </tr>\n",
       "  </thead>\n",
       "  <tbody>\n",
       "    <tr>\n",
       "      <th>33</th>\n",
       "      <td>(M_RETIREES)</td>\n",
       "      <td>(250)</td>\n",
       "      <td>0.080935</td>\n",
       "      <td>0.012843</td>\n",
       "      <td>0.001167</td>\n",
       "      <td>0.014422</td>\n",
       "      <td>1.122876</td>\n",
       "      <td>0.000128</td>\n",
       "      <td>1.001601</td>\n",
       "    </tr>\n",
       "    <tr>\n",
       "      <th>22</th>\n",
       "      <td>(M_RETIREES)</td>\n",
       "      <td>(180)</td>\n",
       "      <td>0.080935</td>\n",
       "      <td>0.005950</td>\n",
       "      <td>0.000515</td>\n",
       "      <td>0.006360</td>\n",
       "      <td>1.068905</td>\n",
       "      <td>0.000033</td>\n",
       "      <td>1.000413</td>\n",
       "    </tr>\n",
       "    <tr>\n",
       "      <th>29</th>\n",
       "      <td>(M_RETIREES)</td>\n",
       "      <td>(210)</td>\n",
       "      <td>0.080935</td>\n",
       "      <td>0.025419</td>\n",
       "      <td>0.002189</td>\n",
       "      <td>0.027041</td>\n",
       "      <td>1.063774</td>\n",
       "      <td>0.000131</td>\n",
       "      <td>1.001666</td>\n",
       "    </tr>\n",
       "    <tr>\n",
       "      <th>0</th>\n",
       "      <td>(M_RETIREES)</td>\n",
       "      <td>(70)</td>\n",
       "      <td>0.080935</td>\n",
       "      <td>0.006108</td>\n",
       "      <td>0.000523</td>\n",
       "      <td>0.006460</td>\n",
       "      <td>1.057640</td>\n",
       "      <td>0.000028</td>\n",
       "      <td>1.000354</td>\n",
       "    </tr>\n",
       "    <tr>\n",
       "      <th>8</th>\n",
       "      <td>(M_RETIREES)</td>\n",
       "      <td>(134)</td>\n",
       "      <td>0.080935</td>\n",
       "      <td>0.101735</td>\n",
       "      <td>0.008523</td>\n",
       "      <td>0.105308</td>\n",
       "      <td>1.035124</td>\n",
       "      <td>0.000289</td>\n",
       "      <td>1.003994</td>\n",
       "    </tr>\n",
       "    <tr>\n",
       "      <th>6</th>\n",
       "      <td>(M_RETIREES)</td>\n",
       "      <td>(125)</td>\n",
       "      <td>0.080935</td>\n",
       "      <td>0.005893</td>\n",
       "      <td>0.000490</td>\n",
       "      <td>0.006059</td>\n",
       "      <td>1.028212</td>\n",
       "      <td>0.000013</td>\n",
       "      <td>1.000167</td>\n",
       "    </tr>\n",
       "    <tr>\n",
       "      <th>19</th>\n",
       "      <td>(M_RETIREES)</td>\n",
       "      <td>(170)</td>\n",
       "      <td>0.080935</td>\n",
       "      <td>0.080988</td>\n",
       "      <td>0.006630</td>\n",
       "      <td>0.081923</td>\n",
       "      <td>1.011542</td>\n",
       "      <td>0.000076</td>\n",
       "      <td>1.001018</td>\n",
       "    </tr>\n",
       "    <tr>\n",
       "      <th>12</th>\n",
       "      <td>(M_RETIREES)</td>\n",
       "      <td>(150)</td>\n",
       "      <td>0.080935</td>\n",
       "      <td>0.162937</td>\n",
       "      <td>0.013334</td>\n",
       "      <td>0.164747</td>\n",
       "      <td>1.011111</td>\n",
       "      <td>0.000147</td>\n",
       "      <td>1.002168</td>\n",
       "    </tr>\n",
       "    <tr>\n",
       "      <th>34</th>\n",
       "      <td>(M_RETIREES)</td>\n",
       "      <td>(270)</td>\n",
       "      <td>0.080935</td>\n",
       "      <td>0.025472</td>\n",
       "      <td>0.002083</td>\n",
       "      <td>0.025739</td>\n",
       "      <td>1.010460</td>\n",
       "      <td>0.000022</td>\n",
       "      <td>1.000273</td>\n",
       "    </tr>\n",
       "    <tr>\n",
       "      <th>4</th>\n",
       "      <td>(M_RETIREES)</td>\n",
       "      <td>(110)</td>\n",
       "      <td>0.080935</td>\n",
       "      <td>0.090731</td>\n",
       "      <td>0.007413</td>\n",
       "      <td>0.091587</td>\n",
       "      <td>1.009437</td>\n",
       "      <td>0.000069</td>\n",
       "      <td>1.000943</td>\n",
       "    </tr>\n",
       "  </tbody>\n",
       "</table>\n",
       "</div>"
      ],
      "text/plain": [
       "     antecedents consequents  antecedent support  consequent support  \\\n",
       "33  (M_RETIREES)       (250)            0.080935            0.012843   \n",
       "22  (M_RETIREES)       (180)            0.080935            0.005950   \n",
       "29  (M_RETIREES)       (210)            0.080935            0.025419   \n",
       "0   (M_RETIREES)        (70)            0.080935            0.006108   \n",
       "8   (M_RETIREES)       (134)            0.080935            0.101735   \n",
       "6   (M_RETIREES)       (125)            0.080935            0.005893   \n",
       "19  (M_RETIREES)       (170)            0.080935            0.080988   \n",
       "12  (M_RETIREES)       (150)            0.080935            0.162937   \n",
       "34  (M_RETIREES)       (270)            0.080935            0.025472   \n",
       "4   (M_RETIREES)       (110)            0.080935            0.090731   \n",
       "\n",
       "     support  confidence      lift  leverage  conviction  \n",
       "33  0.001167    0.014422  1.122876  0.000128    1.001601  \n",
       "22  0.000515    0.006360  1.068905  0.000033    1.000413  \n",
       "29  0.002189    0.027041  1.063774  0.000131    1.001666  \n",
       "0   0.000523    0.006460  1.057640  0.000028    1.000354  \n",
       "8   0.008523    0.105308  1.035124  0.000289    1.003994  \n",
       "6   0.000490    0.006059  1.028212  0.000013    1.000167  \n",
       "19  0.006630    0.081923  1.011542  0.000076    1.001018  \n",
       "12  0.013334    0.164747  1.011111  0.000147    1.002168  \n",
       "34  0.002083    0.025739  1.010460  0.000022    1.000273  \n",
       "4   0.007413    0.091587  1.009437  0.000069    1.000943  "
      ]
     },
     "execution_count": 74,
     "metadata": {},
     "output_type": "execute_result"
    }
   ],
   "source": [
    "mainstream_retirees_pack_affinity = get_affinity_result(merged_df.index.isin(mainstream_retirees.index), 'M_RETIREES', \n",
    "                                                      pack_size_onehot)\n",
    "\n",
    "# return rules where lift > 1 (these show if there is an affinity that is better than random guess)\n",
    "mainstream_retirees_pack_affinity[mainstream_retirees_pack_affinity['lift'] > 1]"
   ]
  },
  {
   "cell_type": "markdown",
   "metadata": {},
   "source": [
    "### From the rules above, we see that Mainstream Retirees customers' highest pack size affinity seems to be for 250g. Let's check which brand has this pack size. "
   ]
  },
  {
   "cell_type": "code",
   "execution_count": 75,
   "metadata": {},
   "outputs": [
    {
     "data": {
      "text/plain": [
       "array(['Twisties'], dtype=object)"
      ]
     },
     "execution_count": 75,
     "metadata": {},
     "output_type": "execute_result"
    }
   ],
   "source": [
    "merged_df[merged_df['PACK_SIZE'] == 250]['BRAND_NAME'].unique()"
   ]
  },
  {
   "cell_type": "markdown",
   "metadata": {},
   "source": [
    "### Since they have affinity for GrnWves brand, let's check the avaliable pack size for this brand. "
   ]
  },
  {
   "cell_type": "code",
   "execution_count": 76,
   "metadata": {},
   "outputs": [
    {
     "data": {
      "text/plain": [
       "array([210, 180], dtype=int64)"
      ]
     },
     "execution_count": 76,
     "metadata": {},
     "output_type": "execute_result"
    }
   ],
   "source": [
    "merged_df[merged_df['BRAND_NAME'] == 'GrnWves']['PACK_SIZE'].unique()"
   ]
  },
  {
   "cell_type": "markdown",
   "metadata": {},
   "source": [
    "### This explains why GrnWvess pack size wasn't the most desired by Mainstream Retirees customers. It is because the brand has more than one pack size available and the customers choice was divided by these pack sizes. Overall."
   ]
  },
  {
   "cell_type": "markdown",
   "metadata": {},
   "source": [
    "## Since Budget Older Families have a high units per order, we will check their affinity for product quanitity so as to recommend one to our category manager."
   ]
  },
  {
   "cell_type": "code",
   "execution_count": 77,
   "metadata": {},
   "outputs": [],
   "source": [
    "# one hot encoding of the product quantity\n",
    "prod_qty_onehot = merged_df.reset_index()[['index', 'PROD_QTY']].pivot_table(index='index', columns='PROD_QTY', aggfunc=len, \n",
    "                                                                      fill_value=0)\n",
    "\n",
    "assert (prod_qty_onehot > 1).sum().sum() == 0\n",
    "\n",
    "#prod_qty_onehot = prod_qty_onehot == 1 # converting the onehot encoding to boolean values"
   ]
  },
  {
   "cell_type": "markdown",
   "metadata": {},
   "source": [
    "### Budget Older Families Prod qty Affinity"
   ]
  },
  {
   "cell_type": "code",
   "execution_count": 78,
   "metadata": {},
   "outputs": [
    {
     "data": {
      "text/html": [
       "<div>\n",
       "<style scoped>\n",
       "    .dataframe tbody tr th:only-of-type {\n",
       "        vertical-align: middle;\n",
       "    }\n",
       "\n",
       "    .dataframe tbody tr th {\n",
       "        vertical-align: top;\n",
       "    }\n",
       "\n",
       "    .dataframe thead th {\n",
       "        text-align: right;\n",
       "    }\n",
       "</style>\n",
       "<table border=\"1\" class=\"dataframe\">\n",
       "  <thead>\n",
       "    <tr style=\"text-align: right;\">\n",
       "      <th></th>\n",
       "      <th>antecedents</th>\n",
       "      <th>consequents</th>\n",
       "      <th>antecedent support</th>\n",
       "      <th>consequent support</th>\n",
       "      <th>support</th>\n",
       "      <th>confidence</th>\n",
       "      <th>lift</th>\n",
       "      <th>leverage</th>\n",
       "      <th>conviction</th>\n",
       "    </tr>\n",
       "  </thead>\n",
       "  <tbody>\n",
       "    <tr>\n",
       "      <th>6</th>\n",
       "      <td>(B_OLD)</td>\n",
       "      <td>(4)</td>\n",
       "      <td>0.087193</td>\n",
       "      <td>0.001504</td>\n",
       "      <td>0.000170</td>\n",
       "      <td>0.001952</td>\n",
       "      <td>1.298356</td>\n",
       "      <td>0.000039</td>\n",
       "      <td>1.000449</td>\n",
       "    </tr>\n",
       "    <tr>\n",
       "      <th>8</th>\n",
       "      <td>(B_OLD)</td>\n",
       "      <td>(5)</td>\n",
       "      <td>0.087193</td>\n",
       "      <td>0.001682</td>\n",
       "      <td>0.000154</td>\n",
       "      <td>0.001766</td>\n",
       "      <td>1.050156</td>\n",
       "      <td>0.000007</td>\n",
       "      <td>1.000085</td>\n",
       "    </tr>\n",
       "    <tr>\n",
       "      <th>3</th>\n",
       "      <td>(B_OLD)</td>\n",
       "      <td>(2)</td>\n",
       "      <td>0.087193</td>\n",
       "      <td>0.891911</td>\n",
       "      <td>0.081045</td>\n",
       "      <td>0.929488</td>\n",
       "      <td>1.042131</td>\n",
       "      <td>0.003276</td>\n",
       "      <td>1.532918</td>\n",
       "    </tr>\n",
       "  </tbody>\n",
       "</table>\n",
       "</div>"
      ],
      "text/plain": [
       "  antecedents consequents  antecedent support  consequent support   support  \\\n",
       "6     (B_OLD)         (4)            0.087193            0.001504  0.000170   \n",
       "8     (B_OLD)         (5)            0.087193            0.001682  0.000154   \n",
       "3     (B_OLD)         (2)            0.087193            0.891911  0.081045   \n",
       "\n",
       "   confidence      lift  leverage  conviction  \n",
       "6    0.001952  1.298356  0.000039    1.000449  \n",
       "8    0.001766  1.050156  0.000007    1.000085  \n",
       "3    0.929488  1.042131  0.003276    1.532918  "
      ]
     },
     "execution_count": 78,
     "metadata": {},
     "output_type": "execute_result"
    }
   ],
   "source": [
    "budget_prod_qty_affinity = get_affinity_result(merged_df.index.isin(budget_older.index), 'B_OLD', prod_qty_onehot)\n",
    "\n",
    "# return rules where lift > 1 (these show if there is an affinity that is better than random guess)\n",
    "budget_prod_qty_affinity[budget_prod_qty_affinity['lift'] > 1]"
   ]
  },
  {
   "cell_type": "markdown",
   "metadata": {},
   "source": [
    "### Budget Older Families tend to have a high affinity for 4 product quanities. We may want to group brands in fours in stores where they frequent."
   ]
  },
  {
   "cell_type": "markdown",
   "metadata": {},
   "source": [
    "### We may want to look at affinity test per transaction."
   ]
  },
  {
   "cell_type": "markdown",
   "metadata": {},
   "source": [
    "### Our aim is to answer the question: given that a customer has ordered for brand X, will he/she order for brand Y for the same transaction?"
   ]
  },
  {
   "cell_type": "code",
   "execution_count": 79,
   "metadata": {},
   "outputs": [
    {
     "data": {
      "image/png": "[encoded data removed]",
      "text/plain": [
       "<Figure size 432x288 with 1 Axes>"
      ]
     },
     "metadata": {
      "needs_background": "light"
     },
     "output_type": "display_data"
    }
   ],
   "source": [
    "# one hot encoding of the brand names\n",
    "transaction_brand_onehot = merged_df[['TXN_ID', 'BRAND_NAME']].pivot_table(index='TXN_ID', columns='BRAND_NAME', \n",
    "                                                                                 aggfunc=len, fill_value=0)\n",
    "(transaction_brand_onehot > 1).sum().sort_values().plot.barh()\n",
    "plt.xlabel(\"Number of Transactions\")\n",
    "plt.title(\"Number of Transactions where a brand was ordered more than once\")\n",
    "plt.grid()\n",
    "plt.show()"
   ]
  },
  {
   "cell_type": "code",
   "execution_count": 80,
   "metadata": {},
   "outputs": [
    {
     "data": {
      "image/png": "[encoded data removed]",
      "text/plain": [
       "<Figure size 432x288 with 1 Axes>"
      ]
     },
     "metadata": {
      "needs_background": "light"
     },
     "output_type": "display_data"
    }
   ],
   "source": [
    "transaction_brand_onehot.max().sort_values().plot.barh()\n",
    "plt.title(\"Maximum Number of Same Brand Orders per Transactions\")\n",
    "plt.xlabel(\"Maximum Number of Orders\")\n",
    "plt.show()"
   ]
  },
  {
   "cell_type": "code",
   "execution_count": 81,
   "metadata": {},
   "outputs": [
    {
     "data": {
      "text/plain": [
       "count    245255.000000\n",
       "mean          1.006055\n",
       "std           0.077892\n",
       "min           1.000000\n",
       "25%           1.000000\n",
       "50%           1.000000\n",
       "75%           1.000000\n",
       "max           3.000000\n",
       "dtype: float64"
      ]
     },
     "execution_count": 81,
     "metadata": {},
     "output_type": "execute_result"
    }
   ],
   "source": [
    "orders_per_transaction = transaction_brand_onehot.sum(axis=1).sort_values(ascending=False)\n",
    "orders_per_transaction.describe()"
   ]
  },
  {
   "cell_type": "code",
   "execution_count": 82,
   "metadata": {},
   "outputs": [
    {
     "data": {
      "text/plain": [
       "TXN_ID\n",
       "230356    3\n",
       "1162      3\n",
       "102237    3\n",
       "228741    3\n",
       "108462    3\n",
       "211119    3\n",
       "12098     2\n",
       "99740     2\n",
       "210058    2\n",
       "94189     2\n",
       "dtype: int64"
      ]
     },
     "execution_count": 82,
     "metadata": {},
     "output_type": "execute_result"
    }
   ],
   "source": [
    "orders_per_transaction[orders_per_transaction > 1].head(10)"
   ]
  },
  {
   "cell_type": "markdown",
   "metadata": {},
   "source": [
    "### We see that some customers made as high as three orders per transaction. Let see example of such a case."
   ]
  },
  {
   "cell_type": "code",
   "execution_count": 83,
   "metadata": {},
   "outputs": [
    {
     "data": {
      "text/html": [
       "<div>\n",
       "<style scoped>\n",
       "    .dataframe tbody tr th:only-of-type {\n",
       "        vertical-align: middle;\n",
       "    }\n",
       "\n",
       "    .dataframe tbody tr th {\n",
       "        vertical-align: top;\n",
       "    }\n",
       "\n",
       "    .dataframe thead th {\n",
       "        text-align: right;\n",
       "    }\n",
       "</style>\n",
       "<table border=\"1\" class=\"dataframe\">\n",
       "  <thead>\n",
       "    <tr style=\"text-align: right;\">\n",
       "      <th></th>\n",
       "      <th>DATE</th>\n",
       "      <th>STORE_NBR</th>\n",
       "      <th>LYLTY_CARD_NBR</th>\n",
       "      <th>TXN_ID</th>\n",
       "      <th>PROD_NBR</th>\n",
       "      <th>PROD_NAME</th>\n",
       "      <th>PROD_QTY</th>\n",
       "      <th>TOT_SALES</th>\n",
       "      <th>is_chip</th>\n",
       "      <th>PACK_SIZE</th>\n",
       "      <th>BRAND_NAME</th>\n",
       "      <th>LIFESTAGE</th>\n",
       "      <th>PREMIUM_CUSTOMER</th>\n",
       "    </tr>\n",
       "  </thead>\n",
       "  <tbody>\n",
       "    <tr>\n",
       "      <th>73593</th>\n",
       "      <td>2018-12-07</td>\n",
       "      <td>229</td>\n",
       "      <td>229001</td>\n",
       "      <td>230356</td>\n",
       "      <td>55</td>\n",
       "      <td>Snbts Whlgrn Crisps Cheddr&amp;Mstrd 90g</td>\n",
       "      <td>2</td>\n",
       "      <td>3.4</td>\n",
       "      <td>1</td>\n",
       "      <td>90</td>\n",
       "      <td>Snbts</td>\n",
       "      <td>OLDER FAMILIES</td>\n",
       "      <td>Premium</td>\n",
       "    </tr>\n",
       "    <tr>\n",
       "      <th>73594</th>\n",
       "      <td>2018-12-07</td>\n",
       "      <td>229</td>\n",
       "      <td>229001</td>\n",
       "      <td>230356</td>\n",
       "      <td>20</td>\n",
       "      <td>Doritos Cheese      Supreme 330g</td>\n",
       "      <td>2</td>\n",
       "      <td>11.4</td>\n",
       "      <td>1</td>\n",
       "      <td>330</td>\n",
       "      <td>Doritos</td>\n",
       "      <td>OLDER FAMILIES</td>\n",
       "      <td>Premium</td>\n",
       "    </tr>\n",
       "    <tr>\n",
       "      <th>73595</th>\n",
       "      <td>2018-12-07</td>\n",
       "      <td>229</td>\n",
       "      <td>229001</td>\n",
       "      <td>230356</td>\n",
       "      <td>86</td>\n",
       "      <td>Cheetos Puffs 165g</td>\n",
       "      <td>2</td>\n",
       "      <td>5.6</td>\n",
       "      <td>1</td>\n",
       "      <td>165</td>\n",
       "      <td>Cheetos</td>\n",
       "      <td>OLDER FAMILIES</td>\n",
       "      <td>Premium</td>\n",
       "    </tr>\n",
       "  </tbody>\n",
       "</table>\n",
       "</div>"
      ],
      "text/plain": [
       "            DATE  STORE_NBR  LYLTY_CARD_NBR  TXN_ID  PROD_NBR  \\\n",
       "73593 2018-12-07        229          229001  230356        55   \n",
       "73594 2018-12-07        229          229001  230356        20   \n",
       "73595 2018-12-07        229          229001  230356        86   \n",
       "\n",
       "                                  PROD_NAME  PROD_QTY  TOT_SALES  is_chip  \\\n",
       "73593  Snbts Whlgrn Crisps Cheddr&Mstrd 90g         2        3.4        1   \n",
       "73594      Doritos Cheese      Supreme 330g         2       11.4        1   \n",
       "73595                    Cheetos Puffs 165g         2        5.6        1   \n",
       "\n",
       "       PACK_SIZE BRAND_NAME       LIFESTAGE PREMIUM_CUSTOMER  \n",
       "73593         90      Snbts  OLDER FAMILIES          Premium  \n",
       "73594        330    Doritos  OLDER FAMILIES          Premium  \n",
       "73595        165    Cheetos  OLDER FAMILIES          Premium  "
      ]
     },
     "execution_count": 83,
     "metadata": {},
     "output_type": "execute_result"
    }
   ],
   "source": [
    "merged_df[merged_df['TXN_ID'] == 230356]"
   ]
  },
  {
   "cell_type": "markdown",
   "metadata": {},
   "source": [
    "### Here, we see three orders same day for two units each with different brand. It seems to be different members of the family ordering their prefered brand and pack size."
   ]
  },
  {
   "cell_type": "code",
   "execution_count": 84,
   "metadata": {},
   "outputs": [],
   "source": [
    "# using apriori to reduce the itemsets\n",
    "general_brand_itemsets = frequent_patterns.apriori(transaction_brand_onehot > 0, min_support=1e-4, max_len=3, use_colnames=True)"
   ]
  },
  {
   "cell_type": "code",
   "execution_count": 85,
   "metadata": {},
   "outputs": [
    {
     "data": {
      "text/html": [
       "<div>\n",
       "<style scoped>\n",
       "    .dataframe tbody tr th:only-of-type {\n",
       "        vertical-align: middle;\n",
       "    }\n",
       "\n",
       "    .dataframe tbody tr th {\n",
       "        vertical-align: top;\n",
       "    }\n",
       "\n",
       "    .dataframe thead th {\n",
       "        text-align: right;\n",
       "    }\n",
       "</style>\n",
       "<table border=\"1\" class=\"dataframe\">\n",
       "  <thead>\n",
       "    <tr style=\"text-align: right;\">\n",
       "      <th></th>\n",
       "      <th>antecedents</th>\n",
       "      <th>consequents</th>\n",
       "      <th>antecedent support</th>\n",
       "      <th>consequent support</th>\n",
       "      <th>support</th>\n",
       "      <th>confidence</th>\n",
       "      <th>lift</th>\n",
       "      <th>leverage</th>\n",
       "      <th>conviction</th>\n",
       "    </tr>\n",
       "  </thead>\n",
       "  <tbody>\n",
       "    <tr>\n",
       "      <th>0</th>\n",
       "      <td>(Kettle)</td>\n",
       "      <td>(Doritos)</td>\n",
       "      <td>0.168221</td>\n",
       "      <td>0.102767</td>\n",
       "      <td>0.000179</td>\n",
       "      <td>0.001066</td>\n",
       "      <td>0.010378</td>\n",
       "      <td>-0.017108</td>\n",
       "      <td>0.898191</td>\n",
       "    </tr>\n",
       "    <tr>\n",
       "      <th>1</th>\n",
       "      <td>(Doritos)</td>\n",
       "      <td>(Kettle)</td>\n",
       "      <td>0.102767</td>\n",
       "      <td>0.168221</td>\n",
       "      <td>0.000179</td>\n",
       "      <td>0.001746</td>\n",
       "      <td>0.010378</td>\n",
       "      <td>-0.017108</td>\n",
       "      <td>0.833234</td>\n",
       "    </tr>\n",
       "    <tr>\n",
       "      <th>2</th>\n",
       "      <td>(Pringles)</td>\n",
       "      <td>(Doritos)</td>\n",
       "      <td>0.102314</td>\n",
       "      <td>0.102767</td>\n",
       "      <td>0.000139</td>\n",
       "      <td>0.001355</td>\n",
       "      <td>0.013185</td>\n",
       "      <td>-0.010376</td>\n",
       "      <td>0.898451</td>\n",
       "    </tr>\n",
       "    <tr>\n",
       "      <th>3</th>\n",
       "      <td>(Doritos)</td>\n",
       "      <td>(Pringles)</td>\n",
       "      <td>0.102767</td>\n",
       "      <td>0.102314</td>\n",
       "      <td>0.000139</td>\n",
       "      <td>0.001349</td>\n",
       "      <td>0.013185</td>\n",
       "      <td>-0.010376</td>\n",
       "      <td>0.898899</td>\n",
       "    </tr>\n",
       "    <tr>\n",
       "      <th>4</th>\n",
       "      <td>(Doritos)</td>\n",
       "      <td>(Smiths)</td>\n",
       "      <td>0.102767</td>\n",
       "      <td>0.123655</td>\n",
       "      <td>0.000135</td>\n",
       "      <td>0.001309</td>\n",
       "      <td>0.010588</td>\n",
       "      <td>-0.012573</td>\n",
       "      <td>0.877494</td>\n",
       "    </tr>\n",
       "  </tbody>\n",
       "</table>\n",
       "</div>"
      ],
      "text/plain": [
       "  antecedents consequents  antecedent support  consequent support   support  \\\n",
       "0    (Kettle)   (Doritos)            0.168221            0.102767  0.000179   \n",
       "1   (Doritos)    (Kettle)            0.102767            0.168221  0.000179   \n",
       "2  (Pringles)   (Doritos)            0.102314            0.102767  0.000139   \n",
       "3   (Doritos)  (Pringles)            0.102767            0.102314  0.000139   \n",
       "4   (Doritos)    (Smiths)            0.102767            0.123655  0.000135   \n",
       "\n",
       "   confidence      lift  leverage  conviction  \n",
       "0    0.001066  0.010378 -0.017108    0.898191  \n",
       "1    0.001746  0.010378 -0.017108    0.833234  \n",
       "2    0.001355  0.013185 -0.010376    0.898451  \n",
       "3    0.001349  0.013185 -0.010376    0.898899  \n",
       "4    0.001309  0.010588 -0.012573    0.877494  "
      ]
     },
     "execution_count": 85,
     "metadata": {},
     "output_type": "execute_result"
    }
   ],
   "source": [
    "# association rules\n",
    "general_brand_rules = frequent_patterns.association_rules(general_brand_itemsets, metric='lift', min_threshold=1e-2)\n",
    "general_brand_rules.head()"
   ]
  },
  {
   "cell_type": "markdown",
   "metadata": {},
   "source": [
    "### From the rules above, we see that there aren't any strong co-occurence between any two brand per transaction. This may be due to customers making a single order for thier prefer brand and/or multiple orders are just due to members of families' individual preferences."
   ]
  },
  {
   "cell_type": "markdown",
   "metadata": {},
   "source": [
    "### Let's answer the question: given that a customer has ordered for chip, will he/she order for a salsa product for the same transaction?"
   ]
  },
  {
   "cell_type": "code",
   "execution_count": 86,
   "metadata": {},
   "outputs": [
    {
     "name": "stdout",
     "output_type": "stream",
     "text": [
      "Number of orders of chips is 246742\n",
      "Number of orders of salsa is 18094\n"
     ]
    },
    {
     "data": {
      "text/html": [
       "<div>\n",
       "<style scoped>\n",
       "    .dataframe tbody tr th:only-of-type {\n",
       "        vertical-align: middle;\n",
       "    }\n",
       "\n",
       "    .dataframe tbody tr th {\n",
       "        vertical-align: top;\n",
       "    }\n",
       "\n",
       "    .dataframe thead th {\n",
       "        text-align: right;\n",
       "    }\n",
       "</style>\n",
       "<table border=\"1\" class=\"dataframe\">\n",
       "  <thead>\n",
       "    <tr style=\"text-align: right;\">\n",
       "      <th></th>\n",
       "      <th>DATE</th>\n",
       "      <th>STORE_NBR</th>\n",
       "      <th>LYLTY_CARD_NBR</th>\n",
       "      <th>TXN_ID</th>\n",
       "      <th>PROD_NBR</th>\n",
       "      <th>PROD_NAME</th>\n",
       "      <th>PROD_QTY</th>\n",
       "      <th>TOT_SALES</th>\n",
       "      <th>is_chip</th>\n",
       "    </tr>\n",
       "  </thead>\n",
       "  <tbody>\n",
       "    <tr>\n",
       "      <th>0</th>\n",
       "      <td>2018-10-17</td>\n",
       "      <td>1</td>\n",
       "      <td>1000</td>\n",
       "      <td>1</td>\n",
       "      <td>5</td>\n",
       "      <td>Natural Chip        Compny SeaSalt175g</td>\n",
       "      <td>2</td>\n",
       "      <td>6.0</td>\n",
       "      <td>chip</td>\n",
       "    </tr>\n",
       "    <tr>\n",
       "      <th>1</th>\n",
       "      <td>2019-05-14</td>\n",
       "      <td>1</td>\n",
       "      <td>1307</td>\n",
       "      <td>348</td>\n",
       "      <td>66</td>\n",
       "      <td>CCs Nacho Cheese    175g</td>\n",
       "      <td>3</td>\n",
       "      <td>6.3</td>\n",
       "      <td>chip</td>\n",
       "    </tr>\n",
       "    <tr>\n",
       "      <th>2</th>\n",
       "      <td>2019-05-20</td>\n",
       "      <td>1</td>\n",
       "      <td>1343</td>\n",
       "      <td>383</td>\n",
       "      <td>61</td>\n",
       "      <td>Smiths Crinkle Cut  Chips Chicken 170g</td>\n",
       "      <td>2</td>\n",
       "      <td>2.9</td>\n",
       "      <td>chip</td>\n",
       "    </tr>\n",
       "    <tr>\n",
       "      <th>3</th>\n",
       "      <td>2018-08-17</td>\n",
       "      <td>2</td>\n",
       "      <td>2373</td>\n",
       "      <td>974</td>\n",
       "      <td>69</td>\n",
       "      <td>Smiths Chip Thinly  S/Cream&amp;Onion 175g</td>\n",
       "      <td>5</td>\n",
       "      <td>15.0</td>\n",
       "      <td>chip</td>\n",
       "    </tr>\n",
       "    <tr>\n",
       "      <th>4</th>\n",
       "      <td>2018-08-18</td>\n",
       "      <td>2</td>\n",
       "      <td>2426</td>\n",
       "      <td>1038</td>\n",
       "      <td>108</td>\n",
       "      <td>Kettle Tortilla ChpsHny&amp;Jlpno Chili 150g</td>\n",
       "      <td>3</td>\n",
       "      <td>13.8</td>\n",
       "      <td>chip</td>\n",
       "    </tr>\n",
       "  </tbody>\n",
       "</table>\n",
       "</div>"
      ],
      "text/plain": [
       "        DATE  STORE_NBR  LYLTY_CARD_NBR  TXN_ID  PROD_NBR  \\\n",
       "0 2018-10-17          1            1000       1         5   \n",
       "1 2019-05-14          1            1307     348        66   \n",
       "2 2019-05-20          1            1343     383        61   \n",
       "3 2018-08-17          2            2373     974        69   \n",
       "4 2018-08-18          2            2426    1038       108   \n",
       "\n",
       "                                  PROD_NAME  PROD_QTY  TOT_SALES is_chip  \n",
       "0    Natural Chip        Compny SeaSalt175g         2        6.0    chip  \n",
       "1                  CCs Nacho Cheese    175g         3        6.3    chip  \n",
       "2    Smiths Crinkle Cut  Chips Chicken 170g         2        2.9    chip  \n",
       "3    Smiths Chip Thinly  S/Cream&Onion 175g         5       15.0    chip  \n",
       "4  Kettle Tortilla ChpsHny&Jlpno Chili 150g         3       13.8    chip  "
      ]
     },
     "execution_count": 86,
     "metadata": {},
     "output_type": "execute_result"
    }
   ],
   "source": [
    "# changing the flag of is_chip column to be either 'chip' or 'salsa' as the case may be\n",
    "transaction_data['is_chip'] = transaction_data['is_chip'].apply(lambda x: 'chip' if x else 'salsa')\n",
    "print(f\"Number of orders of chips is {transaction_data[transaction_data['is_chip'] == 'chip'].shape[0]}\")\n",
    "print(f\"Number of orders of salsa is {transaction_data[transaction_data['is_chip'] == 'salsa'].shape[0]}\")\n",
    "transaction_data.head()"
   ]
  },
  {
   "cell_type": "code",
   "execution_count": 87,
   "metadata": {},
   "outputs": [],
   "source": [
    "# one hot encoding of the 'is_chip' status\n",
    "chip_salsa_onehot = transaction_data[['TXN_ID', 'is_chip']].pivot_table(index='TXN_ID', columns='is_chip', \n",
    "                                                                                 aggfunc=len, fill_value=0)"
   ]
  },
  {
   "cell_type": "code",
   "execution_count": 88,
   "metadata": {},
   "outputs": [
    {
     "name": "stdout",
     "output_type": "stream",
     "text": [
      "Number of transactions where both chips and salsa were made is 216\n"
     ]
    }
   ],
   "source": [
    "print(\"Number of transactions where both chips and salsa were made is \" +\n",
    "      str(chip_salsa_onehot[(chip_salsa_onehot['chip'] > 0) & (chip_salsa_onehot['salsa'] > 0)].shape[0]))"
   ]
  },
  {
   "cell_type": "code",
   "execution_count": 89,
   "metadata": {},
   "outputs": [],
   "source": [
    "# using apriori to reduce the itemsets\n",
    "chip_salsa_itemsets = frequent_patterns.apriori(chip_salsa_onehot > 0, min_support=1e-4, max_len=2, use_colnames=True)"
   ]
  },
  {
   "cell_type": "code",
   "execution_count": 90,
   "metadata": {},
   "outputs": [
    {
     "data": {
      "text/html": [
       "<div>\n",
       "<style scoped>\n",
       "    .dataframe tbody tr th:only-of-type {\n",
       "        vertical-align: middle;\n",
       "    }\n",
       "\n",
       "    .dataframe tbody tr th {\n",
       "        vertical-align: top;\n",
       "    }\n",
       "\n",
       "    .dataframe thead th {\n",
       "        text-align: right;\n",
       "    }\n",
       "</style>\n",
       "<table border=\"1\" class=\"dataframe\">\n",
       "  <thead>\n",
       "    <tr style=\"text-align: right;\">\n",
       "      <th></th>\n",
       "      <th>antecedents</th>\n",
       "      <th>consequents</th>\n",
       "      <th>antecedent support</th>\n",
       "      <th>consequent support</th>\n",
       "      <th>support</th>\n",
       "      <th>confidence</th>\n",
       "      <th>lift</th>\n",
       "      <th>leverage</th>\n",
       "      <th>conviction</th>\n",
       "    </tr>\n",
       "  </thead>\n",
       "  <tbody>\n",
       "    <tr>\n",
       "      <th>0</th>\n",
       "      <td>(chip)</td>\n",
       "      <td>(salsa)</td>\n",
       "      <td>0.932086</td>\n",
       "      <td>0.068735</td>\n",
       "      <td>0.000821</td>\n",
       "      <td>0.000881</td>\n",
       "      <td>0.012813</td>\n",
       "      <td>-0.063246</td>\n",
       "      <td>0.932086</td>\n",
       "    </tr>\n",
       "    <tr>\n",
       "      <th>1</th>\n",
       "      <td>(salsa)</td>\n",
       "      <td>(chip)</td>\n",
       "      <td>0.068735</td>\n",
       "      <td>0.932086</td>\n",
       "      <td>0.000821</td>\n",
       "      <td>0.011943</td>\n",
       "      <td>0.012813</td>\n",
       "      <td>-0.063246</td>\n",
       "      <td>0.068735</td>\n",
       "    </tr>\n",
       "  </tbody>\n",
       "</table>\n",
       "</div>"
      ],
      "text/plain": [
       "  antecedents consequents  antecedent support  consequent support   support  \\\n",
       "0      (chip)     (salsa)            0.932086            0.068735  0.000821   \n",
       "1     (salsa)      (chip)            0.068735            0.932086  0.000821   \n",
       "\n",
       "   confidence      lift  leverage  conviction  \n",
       "0    0.000881  0.012813 -0.063246    0.932086  \n",
       "1    0.011943  0.012813 -0.063246    0.068735  "
      ]
     },
     "execution_count": 90,
     "metadata": {},
     "output_type": "execute_result"
    }
   ],
   "source": [
    "# association rule\n",
    "chip_salsa_rules = frequent_patterns.association_rules(chip_salsa_itemsets, metric='lift', min_threshold=1e-2)\n",
    "chip_salsa_rules.head()"
   ]
  },
  {
   "cell_type": "markdown",
   "metadata": {},
   "source": [
    "### From the rules above, we see that there aren't any strong co-occurence between chips and salsa products per transaction."
   ]
  },
  {
   "cell_type": "markdown",
   "metadata": {},
   "source": [
    "# Conclusion:\n",
    "\n",
    "- Sales have mainly been due to Budget older families, Mainstream young singles/couples, and Mainstream retirees shoppers.\n",
    "- We found that that the high spend in chips for Budget Older Families is due to them buying more product quanity per customer.\n",
    "- We also found that the high spend in chips for mainstream young singles/couples and retirees is due to there being more of them than other buyers. \n",
    "- Mainstream, midage and young singles and couples are also more likely to pay more per packet of chips. This is indicative of impulse buying behaviour.\n",
    "- Budget Older Families are more likely to buy RRD chips.\n",
    "- Budget Older Families are also more likely to buy four product quantities of chips.\n",
    "- We’ve also found that Mainstream young singles and couples are more likely to purchase Tyrrells chips. \n",
    "- Mainstream retirees are more likely to purchase GrnWves chips.\n",
    "- The Category Manager may want to increase the category’s performance by off-locating some RRD chips in groups of four in discretionary space near segments where Budget Older Families customers frequent more often to increase visibilty.\n",
    "- The Category Manager may also want off-locate some Tyrrells and GrnWves smaller packs of chips in discretionary space near segments where mainstream young singles and couples, and mainstream retirees frequent more often to increase visibilty and impulse behaviour."
   ]
  }
 ],
 "metadata": {
  "kernelspec": {
   "display_name": "Python 3",
   "language": "python",
   "name": "python3"
  },
  "language_info": {
   "codemirror_mode": {
    "name": "ipython",
    "version": 3
   },
   "file_extension": ".py",
   "mimetype": "text/x-python",
   "name": "python",
   "nbconvert_exporter": "python",
   "pygments_lexer": "ipython3",
   "version": "3.7.7"
  }
 },
 "nbformat": 4,
 "nbformat_minor": 4
}
